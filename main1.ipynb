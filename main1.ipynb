{
 "cells": [
  {
   "cell_type": "code",
   "execution_count": 1,
   "metadata": {},
   "outputs": [
    {
     "name": "stdout",
     "output_type": "stream",
     "text": [
      "Requirement already satisfied: langchain in c:\\users\\mehak\\appdata\\local\\programs\\python\\python311\\lib\\site-packages (0.3.14)\n",
      "Requirement already satisfied: PyYAML>=5.3 in c:\\users\\mehak\\appdata\\local\\programs\\python\\python311\\lib\\site-packages (from langchain) (6.0.2)\n",
      "Requirement already satisfied: SQLAlchemy<3,>=1.4 in c:\\users\\mehak\\appdata\\local\\programs\\python\\python311\\lib\\site-packages (from langchain) (2.0.37)\n",
      "Requirement already satisfied: aiohttp<4.0.0,>=3.8.3 in c:\\users\\mehak\\appdata\\local\\programs\\python\\python311\\lib\\site-packages (from langchain) (3.11.11)\n",
      "Requirement already satisfied: langchain-core<0.4.0,>=0.3.29 in c:\\users\\mehak\\appdata\\local\\programs\\python\\python311\\lib\\site-packages (from langchain) (0.3.29)\n",
      "Requirement already satisfied: langchain-text-splitters<0.4.0,>=0.3.3 in c:\\users\\mehak\\appdata\\local\\programs\\python\\python311\\lib\\site-packages (from langchain) (0.3.5)\n",
      "Requirement already satisfied: langsmith<0.3,>=0.1.17 in c:\\users\\mehak\\appdata\\local\\programs\\python\\python311\\lib\\site-packages (from langchain) (0.2.10)\n",
      "Requirement already satisfied: numpy<2,>=1.22.4 in c:\\users\\mehak\\appdata\\local\\programs\\python\\python311\\lib\\site-packages (from langchain) (1.26.4)\n",
      "Requirement already satisfied: pydantic<3.0.0,>=2.7.4 in c:\\users\\mehak\\appdata\\local\\programs\\python\\python311\\lib\\site-packages (from langchain) (2.10.5)\n",
      "Requirement already satisfied: requests<3,>=2 in c:\\users\\mehak\\appdata\\local\\programs\\python\\python311\\lib\\site-packages (from langchain) (2.32.3)\n",
      "Requirement already satisfied: tenacity!=8.4.0,<10,>=8.1.0 in c:\\users\\mehak\\appdata\\local\\programs\\python\\python311\\lib\\site-packages (from langchain) (9.0.0)\n",
      "Requirement already satisfied: aiohappyeyeballs>=2.3.0 in c:\\users\\mehak\\appdata\\local\\programs\\python\\python311\\lib\\site-packages (from aiohttp<4.0.0,>=3.8.3->langchain) (2.4.4)\n",
      "Requirement already satisfied: aiosignal>=1.1.2 in c:\\users\\mehak\\appdata\\local\\programs\\python\\python311\\lib\\site-packages (from aiohttp<4.0.0,>=3.8.3->langchain) (1.3.2)\n",
      "Requirement already satisfied: attrs>=17.3.0 in c:\\users\\mehak\\appdata\\local\\programs\\python\\python311\\lib\\site-packages (from aiohttp<4.0.0,>=3.8.3->langchain) (24.3.0)\n",
      "Requirement already satisfied: frozenlist>=1.1.1 in c:\\users\\mehak\\appdata\\local\\programs\\python\\python311\\lib\\site-packages (from aiohttp<4.0.0,>=3.8.3->langchain) (1.5.0)\n",
      "Requirement already satisfied: multidict<7.0,>=4.5 in c:\\users\\mehak\\appdata\\local\\programs\\python\\python311\\lib\\site-packages (from aiohttp<4.0.0,>=3.8.3->langchain) (6.1.0)\n",
      "Requirement already satisfied: propcache>=0.2.0 in c:\\users\\mehak\\appdata\\local\\programs\\python\\python311\\lib\\site-packages (from aiohttp<4.0.0,>=3.8.3->langchain) (0.2.1)\n",
      "Requirement already satisfied: yarl<2.0,>=1.17.0 in c:\\users\\mehak\\appdata\\local\\programs\\python\\python311\\lib\\site-packages (from aiohttp<4.0.0,>=3.8.3->langchain) (1.18.3)\n",
      "Requirement already satisfied: jsonpatch<2.0,>=1.33 in c:\\users\\mehak\\appdata\\local\\programs\\python\\python311\\lib\\site-packages (from langchain-core<0.4.0,>=0.3.29->langchain) (1.33)\n",
      "Requirement already satisfied: packaging<25,>=23.2 in c:\\users\\mehak\\appdata\\local\\programs\\python\\python311\\lib\\site-packages (from langchain-core<0.4.0,>=0.3.29->langchain) (24.2)\n",
      "Requirement already satisfied: typing-extensions>=4.7 in c:\\users\\mehak\\appdata\\local\\programs\\python\\python311\\lib\\site-packages (from langchain-core<0.4.0,>=0.3.29->langchain) (4.12.2)\n",
      "Requirement already satisfied: httpx<1,>=0.23.0 in c:\\users\\mehak\\appdata\\local\\programs\\python\\python311\\lib\\site-packages (from langsmith<0.3,>=0.1.17->langchain) (0.28.1)\n",
      "Requirement already satisfied: orjson<4.0.0,>=3.9.14 in c:\\users\\mehak\\appdata\\local\\programs\\python\\python311\\lib\\site-packages (from langsmith<0.3,>=0.1.17->langchain) (3.10.14)\n",
      "Requirement already satisfied: requests-toolbelt<2.0.0,>=1.0.0 in c:\\users\\mehak\\appdata\\local\\programs\\python\\python311\\lib\\site-packages (from langsmith<0.3,>=0.1.17->langchain) (1.0.0)\n",
      "Requirement already satisfied: annotated-types>=0.6.0 in c:\\users\\mehak\\appdata\\local\\programs\\python\\python311\\lib\\site-packages (from pydantic<3.0.0,>=2.7.4->langchain) (0.7.0)\n",
      "Requirement already satisfied: pydantic-core==2.27.2 in c:\\users\\mehak\\appdata\\local\\programs\\python\\python311\\lib\\site-packages (from pydantic<3.0.0,>=2.7.4->langchain) (2.27.2)\n",
      "Requirement already satisfied: charset-normalizer<4,>=2 in c:\\users\\mehak\\appdata\\local\\programs\\python\\python311\\lib\\site-packages (from requests<3,>=2->langchain) (3.4.1)\n",
      "Requirement already satisfied: idna<4,>=2.5 in c:\\users\\mehak\\appdata\\local\\programs\\python\\python311\\lib\\site-packages (from requests<3,>=2->langchain) (3.10)\n",
      "Requirement already satisfied: urllib3<3,>=1.21.1 in c:\\users\\mehak\\appdata\\local\\programs\\python\\python311\\lib\\site-packages (from requests<3,>=2->langchain) (2.3.0)\n",
      "Requirement already satisfied: certifi>=2017.4.17 in c:\\users\\mehak\\appdata\\local\\programs\\python\\python311\\lib\\site-packages (from requests<3,>=2->langchain) (2024.12.14)\n",
      "Requirement already satisfied: greenlet!=0.4.17 in c:\\users\\mehak\\appdata\\local\\programs\\python\\python311\\lib\\site-packages (from SQLAlchemy<3,>=1.4->langchain) (3.1.1)\n",
      "Requirement already satisfied: anyio in c:\\users\\mehak\\appdata\\local\\programs\\python\\python311\\lib\\site-packages (from httpx<1,>=0.23.0->langsmith<0.3,>=0.1.17->langchain) (4.8.0)\n",
      "Requirement already satisfied: httpcore==1.* in c:\\users\\mehak\\appdata\\local\\programs\\python\\python311\\lib\\site-packages (from httpx<1,>=0.23.0->langsmith<0.3,>=0.1.17->langchain) (1.0.7)\n",
      "Requirement already satisfied: h11<0.15,>=0.13 in c:\\users\\mehak\\appdata\\local\\programs\\python\\python311\\lib\\site-packages (from httpcore==1.*->httpx<1,>=0.23.0->langsmith<0.3,>=0.1.17->langchain) (0.14.0)\n",
      "Requirement already satisfied: jsonpointer>=1.9 in c:\\users\\mehak\\appdata\\local\\programs\\python\\python311\\lib\\site-packages (from jsonpatch<2.0,>=1.33->langchain-core<0.4.0,>=0.3.29->langchain) (3.0.0)\n",
      "Requirement already satisfied: sniffio>=1.1 in c:\\users\\mehak\\appdata\\local\\programs\\python\\python311\\lib\\site-packages (from anyio->httpx<1,>=0.23.0->langsmith<0.3,>=0.1.17->langchain) (1.3.1)\n"
     ]
    },
    {
     "name": "stderr",
     "output_type": "stream",
     "text": [
      "WARNING: Ignoring invalid distribution ~ (C:\\Users\\mehak\\AppData\\Local\\Programs\\Python\\Python311\\Lib\\site-packages)\n",
      "WARNING: Ignoring invalid distribution ~ (C:\\Users\\mehak\\AppData\\Local\\Programs\\Python\\Python311\\Lib\\site-packages)\n",
      "WARNING: Ignoring invalid distribution ~ (C:\\Users\\mehak\\AppData\\Local\\Programs\\Python\\Python311\\Lib\\site-packages)\n"
     ]
    }
   ],
   "source": [
    "!pip install langchain"
   ]
  },
  {
   "cell_type": "code",
   "execution_count": 2,
   "metadata": {},
   "outputs": [
    {
     "name": "stdout",
     "output_type": "stream",
     "text": [
      "Requirement already satisfied: youtube-transcript-api in c:\\users\\mehak\\appdata\\local\\programs\\python\\python311\\lib\\site-packages (0.6.3)\n",
      "Requirement already satisfied: defusedxml<0.8.0,>=0.7.1 in c:\\users\\mehak\\appdata\\local\\programs\\python\\python311\\lib\\site-packages (from youtube-transcript-api) (0.7.1)\n",
      "Requirement already satisfied: requests in c:\\users\\mehak\\appdata\\local\\programs\\python\\python311\\lib\\site-packages (from youtube-transcript-api) (2.32.3)\n",
      "Requirement already satisfied: charset-normalizer<4,>=2 in c:\\users\\mehak\\appdata\\local\\programs\\python\\python311\\lib\\site-packages (from requests->youtube-transcript-api) (3.4.1)\n",
      "Requirement already satisfied: idna<4,>=2.5 in c:\\users\\mehak\\appdata\\local\\programs\\python\\python311\\lib\\site-packages (from requests->youtube-transcript-api) (3.10)\n",
      "Requirement already satisfied: urllib3<3,>=1.21.1 in c:\\users\\mehak\\appdata\\local\\programs\\python\\python311\\lib\\site-packages (from requests->youtube-transcript-api) (2.3.0)\n",
      "Requirement already satisfied: certifi>=2017.4.17 in c:\\users\\mehak\\appdata\\local\\programs\\python\\python311\\lib\\site-packages (from requests->youtube-transcript-api) (2024.12.14)\n"
     ]
    },
    {
     "name": "stderr",
     "output_type": "stream",
     "text": [
      "WARNING: Ignoring invalid distribution ~ (C:\\Users\\mehak\\AppData\\Local\\Programs\\Python\\Python311\\Lib\\site-packages)\n",
      "WARNING: Ignoring invalid distribution ~ (C:\\Users\\mehak\\AppData\\Local\\Programs\\Python\\Python311\\Lib\\site-packages)\n",
      "WARNING: Ignoring invalid distribution ~ (C:\\Users\\mehak\\AppData\\Local\\Programs\\Python\\Python311\\Lib\\site-packages)\n"
     ]
    }
   ],
   "source": [
    "!pip install youtube-transcript-api"
   ]
  },
  {
   "cell_type": "code",
   "execution_count": 3,
   "metadata": {},
   "outputs": [
    {
     "name": "stdout",
     "output_type": "stream",
     "text": [
      "Requirement already satisfied: chromadb in c:\\users\\mehak\\appdata\\local\\programs\\python\\python311\\lib\\site-packages (0.6.3)\n",
      "Requirement already satisfied: build>=1.0.3 in c:\\users\\mehak\\appdata\\local\\programs\\python\\python311\\lib\\site-packages (from chromadb) (1.2.2.post1)\n",
      "Requirement already satisfied: pydantic>=1.9 in c:\\users\\mehak\\appdata\\local\\programs\\python\\python311\\lib\\site-packages (from chromadb) (2.10.5)\n",
      "Requirement already satisfied: chroma-hnswlib==0.7.6 in c:\\users\\mehak\\appdata\\local\\programs\\python\\python311\\lib\\site-packages (from chromadb) (0.7.6)\n",
      "Requirement already satisfied: fastapi>=0.95.2 in c:\\users\\mehak\\appdata\\local\\programs\\python\\python311\\lib\\site-packages (from chromadb) (0.115.6)\n",
      "Requirement already satisfied: uvicorn>=0.18.3 in c:\\users\\mehak\\appdata\\local\\programs\\python\\python311\\lib\\site-packages (from uvicorn[standard]>=0.18.3->chromadb) (0.34.0)\n",
      "Requirement already satisfied: numpy>=1.22.5 in c:\\users\\mehak\\appdata\\local\\programs\\python\\python311\\lib\\site-packages (from chromadb) (1.26.4)\n",
      "Requirement already satisfied: posthog>=2.4.0 in c:\\users\\mehak\\appdata\\local\\programs\\python\\python311\\lib\\site-packages (from chromadb) (3.8.3)\n",
      "Requirement already satisfied: typing_extensions>=4.5.0 in c:\\users\\mehak\\appdata\\local\\programs\\python\\python311\\lib\\site-packages (from chromadb) (4.12.2)\n",
      "Requirement already satisfied: onnxruntime>=1.14.1 in c:\\users\\mehak\\appdata\\local\\programs\\python\\python311\\lib\\site-packages (from chromadb) (1.20.1)\n",
      "Requirement already satisfied: opentelemetry-api>=1.2.0 in c:\\users\\mehak\\appdata\\local\\programs\\python\\python311\\lib\\site-packages (from chromadb) (1.29.0)\n",
      "Requirement already satisfied: opentelemetry-exporter-otlp-proto-grpc>=1.2.0 in c:\\users\\mehak\\appdata\\local\\programs\\python\\python311\\lib\\site-packages (from chromadb) (1.29.0)\n",
      "Requirement already satisfied: opentelemetry-instrumentation-fastapi>=0.41b0 in c:\\users\\mehak\\appdata\\local\\programs\\python\\python311\\lib\\site-packages (from chromadb) (0.50b0)\n",
      "Requirement already satisfied: opentelemetry-sdk>=1.2.0 in c:\\users\\mehak\\appdata\\local\\programs\\python\\python311\\lib\\site-packages (from chromadb) (1.29.0)\n",
      "Requirement already satisfied: tokenizers>=0.13.2 in c:\\users\\mehak\\appdata\\local\\programs\\python\\python311\\lib\\site-packages (from chromadb) (0.21.0)\n",
      "Requirement already satisfied: pypika>=0.48.9 in c:\\users\\mehak\\appdata\\local\\programs\\python\\python311\\lib\\site-packages (from chromadb) (0.48.9)\n",
      "Requirement already satisfied: tqdm>=4.65.0 in c:\\users\\mehak\\appdata\\local\\programs\\python\\python311\\lib\\site-packages (from chromadb) (4.67.1)\n",
      "Requirement already satisfied: overrides>=7.3.1 in c:\\users\\mehak\\appdata\\local\\programs\\python\\python311\\lib\\site-packages (from chromadb) (7.7.0)\n",
      "Requirement already satisfied: importlib-resources in c:\\users\\mehak\\appdata\\local\\programs\\python\\python311\\lib\\site-packages (from chromadb) (6.5.2)\n",
      "Requirement already satisfied: grpcio>=1.58.0 in c:\\users\\mehak\\appdata\\local\\programs\\python\\python311\\lib\\site-packages (from chromadb) (1.69.0)\n",
      "Requirement already satisfied: bcrypt>=4.0.1 in c:\\users\\mehak\\appdata\\local\\programs\\python\\python311\\lib\\site-packages (from chromadb) (4.2.1)\n",
      "Requirement already satisfied: typer>=0.9.0 in c:\\users\\mehak\\appdata\\local\\programs\\python\\python311\\lib\\site-packages (from chromadb) (0.15.1)\n",
      "Requirement already satisfied: kubernetes>=28.1.0 in c:\\users\\mehak\\appdata\\local\\programs\\python\\python311\\lib\\site-packages (from chromadb) (31.0.0)\n",
      "Requirement already satisfied: tenacity>=8.2.3 in c:\\users\\mehak\\appdata\\local\\programs\\python\\python311\\lib\\site-packages (from chromadb) (9.0.0)\n",
      "Requirement already satisfied: PyYAML>=6.0.0 in c:\\users\\mehak\\appdata\\local\\programs\\python\\python311\\lib\\site-packages (from chromadb) (6.0.2)\n",
      "Requirement already satisfied: mmh3>=4.0.1 in c:\\users\\mehak\\appdata\\local\\programs\\python\\python311\\lib\\site-packages (from chromadb) (5.0.1)\n",
      "Requirement already satisfied: orjson>=3.9.12 in c:\\users\\mehak\\appdata\\local\\programs\\python\\python311\\lib\\site-packages (from chromadb) (3.10.14)\n",
      "Requirement already satisfied: httpx>=0.27.0 in c:\\users\\mehak\\appdata\\local\\programs\\python\\python311\\lib\\site-packages (from chromadb) (0.28.1)\n",
      "Requirement already satisfied: rich>=10.11.0 in c:\\users\\mehak\\appdata\\local\\programs\\python\\python311\\lib\\site-packages (from chromadb) (13.9.4)\n",
      "Requirement already satisfied: packaging>=19.1 in c:\\users\\mehak\\appdata\\local\\programs\\python\\python311\\lib\\site-packages (from build>=1.0.3->chromadb) (24.2)\n",
      "Requirement already satisfied: pyproject_hooks in c:\\users\\mehak\\appdata\\local\\programs\\python\\python311\\lib\\site-packages (from build>=1.0.3->chromadb) (1.2.0)\n",
      "Requirement already satisfied: colorama in c:\\users\\mehak\\appdata\\local\\programs\\python\\python311\\lib\\site-packages (from build>=1.0.3->chromadb) (0.4.6)\n",
      "Requirement already satisfied: starlette<0.42.0,>=0.40.0 in c:\\users\\mehak\\appdata\\local\\programs\\python\\python311\\lib\\site-packages (from fastapi>=0.95.2->chromadb) (0.41.3)\n",
      "Requirement already satisfied: anyio in c:\\users\\mehak\\appdata\\local\\programs\\python\\python311\\lib\\site-packages (from httpx>=0.27.0->chromadb) (4.8.0)\n",
      "Requirement already satisfied: certifi in c:\\users\\mehak\\appdata\\local\\programs\\python\\python311\\lib\\site-packages (from httpx>=0.27.0->chromadb) (2024.12.14)\n",
      "Requirement already satisfied: httpcore==1.* in c:\\users\\mehak\\appdata\\local\\programs\\python\\python311\\lib\\site-packages (from httpx>=0.27.0->chromadb) (1.0.7)\n",
      "Requirement already satisfied: idna in c:\\users\\mehak\\appdata\\local\\programs\\python\\python311\\lib\\site-packages (from httpx>=0.27.0->chromadb) (3.10)\n",
      "Requirement already satisfied: h11<0.15,>=0.13 in c:\\users\\mehak\\appdata\\local\\programs\\python\\python311\\lib\\site-packages (from httpcore==1.*->httpx>=0.27.0->chromadb) (0.14.0)\n",
      "Requirement already satisfied: six>=1.9.0 in c:\\users\\mehak\\appdata\\roaming\\python\\python311\\site-packages (from kubernetes>=28.1.0->chromadb) (1.17.0)\n",
      "Requirement already satisfied: python-dateutil>=2.5.3 in c:\\users\\mehak\\appdata\\roaming\\python\\python311\\site-packages (from kubernetes>=28.1.0->chromadb) (2.9.0.post0)\n",
      "Requirement already satisfied: google-auth>=1.0.1 in c:\\users\\mehak\\appdata\\local\\programs\\python\\python311\\lib\\site-packages (from kubernetes>=28.1.0->chromadb) (2.37.0)\n",
      "Requirement already satisfied: websocket-client!=0.40.0,!=0.41.*,!=0.42.*,>=0.32.0 in c:\\users\\mehak\\appdata\\local\\programs\\python\\python311\\lib\\site-packages (from kubernetes>=28.1.0->chromadb) (1.8.0)\n",
      "Requirement already satisfied: requests in c:\\users\\mehak\\appdata\\local\\programs\\python\\python311\\lib\\site-packages (from kubernetes>=28.1.0->chromadb) (2.32.3)\n",
      "Requirement already satisfied: requests-oauthlib in c:\\users\\mehak\\appdata\\local\\programs\\python\\python311\\lib\\site-packages (from kubernetes>=28.1.0->chromadb) (2.0.0)\n",
      "Requirement already satisfied: oauthlib>=3.2.2 in c:\\users\\mehak\\appdata\\local\\programs\\python\\python311\\lib\\site-packages (from kubernetes>=28.1.0->chromadb) (3.2.2)\n",
      "Requirement already satisfied: urllib3>=1.24.2 in c:\\users\\mehak\\appdata\\local\\programs\\python\\python311\\lib\\site-packages (from kubernetes>=28.1.0->chromadb) (2.3.0)\n",
      "Requirement already satisfied: durationpy>=0.7 in c:\\users\\mehak\\appdata\\local\\programs\\python\\python311\\lib\\site-packages (from kubernetes>=28.1.0->chromadb) (0.9)\n",
      "Requirement already satisfied: coloredlogs in c:\\users\\mehak\\appdata\\local\\programs\\python\\python311\\lib\\site-packages (from onnxruntime>=1.14.1->chromadb) (15.0.1)\n",
      "Requirement already satisfied: flatbuffers in c:\\users\\mehak\\appdata\\local\\programs\\python\\python311\\lib\\site-packages (from onnxruntime>=1.14.1->chromadb) (24.12.23)\n",
      "Requirement already satisfied: protobuf in c:\\users\\mehak\\appdata\\local\\programs\\python\\python311\\lib\\site-packages (from onnxruntime>=1.14.1->chromadb) (5.29.3)\n",
      "Requirement already satisfied: sympy in c:\\users\\mehak\\appdata\\local\\programs\\python\\python311\\lib\\site-packages (from onnxruntime>=1.14.1->chromadb) (1.13.1)\n",
      "Requirement already satisfied: deprecated>=1.2.6 in c:\\users\\mehak\\appdata\\local\\programs\\python\\python311\\lib\\site-packages (from opentelemetry-api>=1.2.0->chromadb) (1.2.15)\n",
      "Requirement already satisfied: importlib-metadata<=8.5.0,>=6.0 in c:\\users\\mehak\\appdata\\local\\programs\\python\\python311\\lib\\site-packages (from opentelemetry-api>=1.2.0->chromadb) (8.5.0)\n",
      "Requirement already satisfied: googleapis-common-protos~=1.52 in c:\\users\\mehak\\appdata\\local\\programs\\python\\python311\\lib\\site-packages (from opentelemetry-exporter-otlp-proto-grpc>=1.2.0->chromadb) (1.66.0)\n",
      "Requirement already satisfied: opentelemetry-exporter-otlp-proto-common==1.29.0 in c:\\users\\mehak\\appdata\\local\\programs\\python\\python311\\lib\\site-packages (from opentelemetry-exporter-otlp-proto-grpc>=1.2.0->chromadb) (1.29.0)\n",
      "Requirement already satisfied: opentelemetry-proto==1.29.0 in c:\\users\\mehak\\appdata\\local\\programs\\python\\python311\\lib\\site-packages (from opentelemetry-exporter-otlp-proto-grpc>=1.2.0->chromadb) (1.29.0)\n",
      "Requirement already satisfied: opentelemetry-instrumentation-asgi==0.50b0 in c:\\users\\mehak\\appdata\\local\\programs\\python\\python311\\lib\\site-packages (from opentelemetry-instrumentation-fastapi>=0.41b0->chromadb) (0.50b0)\n",
      "Requirement already satisfied: opentelemetry-instrumentation==0.50b0 in c:\\users\\mehak\\appdata\\local\\programs\\python\\python311\\lib\\site-packages (from opentelemetry-instrumentation-fastapi>=0.41b0->chromadb) (0.50b0)\n",
      "Requirement already satisfied: opentelemetry-semantic-conventions==0.50b0 in c:\\users\\mehak\\appdata\\local\\programs\\python\\python311\\lib\\site-packages (from opentelemetry-instrumentation-fastapi>=0.41b0->chromadb) (0.50b0)\n",
      "Requirement already satisfied: opentelemetry-util-http==0.50b0 in c:\\users\\mehak\\appdata\\local\\programs\\python\\python311\\lib\\site-packages (from opentelemetry-instrumentation-fastapi>=0.41b0->chromadb) (0.50b0)\n",
      "Requirement already satisfied: wrapt<2.0.0,>=1.0.0 in c:\\users\\mehak\\appdata\\local\\programs\\python\\python311\\lib\\site-packages (from opentelemetry-instrumentation==0.50b0->opentelemetry-instrumentation-fastapi>=0.41b0->chromadb) (1.17.2)\n",
      "Requirement already satisfied: asgiref~=3.0 in c:\\users\\mehak\\appdata\\local\\programs\\python\\python311\\lib\\site-packages (from opentelemetry-instrumentation-asgi==0.50b0->opentelemetry-instrumentation-fastapi>=0.41b0->chromadb) (3.8.1)\n",
      "Requirement already satisfied: monotonic>=1.5 in c:\\users\\mehak\\appdata\\local\\programs\\python\\python311\\lib\\site-packages (from posthog>=2.4.0->chromadb) (1.6)\n",
      "Requirement already satisfied: backoff>=1.10.0 in c:\\users\\mehak\\appdata\\local\\programs\\python\\python311\\lib\\site-packages (from posthog>=2.4.0->chromadb) (2.2.1)\n",
      "Requirement already satisfied: annotated-types>=0.6.0 in c:\\users\\mehak\\appdata\\local\\programs\\python\\python311\\lib\\site-packages (from pydantic>=1.9->chromadb) (0.7.0)\n",
      "Requirement already satisfied: pydantic-core==2.27.2 in c:\\users\\mehak\\appdata\\local\\programs\\python\\python311\\lib\\site-packages (from pydantic>=1.9->chromadb) (2.27.2)\n",
      "Requirement already satisfied: markdown-it-py>=2.2.0 in c:\\users\\mehak\\appdata\\local\\programs\\python\\python311\\lib\\site-packages (from rich>=10.11.0->chromadb) (3.0.0)\n",
      "Requirement already satisfied: pygments<3.0.0,>=2.13.0 in c:\\users\\mehak\\appdata\\roaming\\python\\python311\\site-packages (from rich>=10.11.0->chromadb) (2.19.1)\n",
      "Requirement already satisfied: huggingface-hub<1.0,>=0.16.4 in c:\\users\\mehak\\appdata\\local\\programs\\python\\python311\\lib\\site-packages (from tokenizers>=0.13.2->chromadb) (0.27.1)\n",
      "Requirement already satisfied: click>=8.0.0 in c:\\users\\mehak\\appdata\\local\\programs\\python\\python311\\lib\\site-packages (from typer>=0.9.0->chromadb) (8.1.8)\n",
      "Requirement already satisfied: shellingham>=1.3.0 in c:\\users\\mehak\\appdata\\local\\programs\\python\\python311\\lib\\site-packages (from typer>=0.9.0->chromadb) (1.5.4)\n",
      "Requirement already satisfied: httptools>=0.6.3 in c:\\users\\mehak\\appdata\\local\\programs\\python\\python311\\lib\\site-packages (from uvicorn[standard]>=0.18.3->chromadb) (0.6.4)\n",
      "Requirement already satisfied: python-dotenv>=0.13 in c:\\users\\mehak\\appdata\\local\\programs\\python\\python311\\lib\\site-packages (from uvicorn[standard]>=0.18.3->chromadb) (1.0.1)\n",
      "Requirement already satisfied: watchfiles>=0.13 in c:\\users\\mehak\\appdata\\local\\programs\\python\\python311\\lib\\site-packages (from uvicorn[standard]>=0.18.3->chromadb) (1.0.4)\n",
      "Requirement already satisfied: websockets>=10.4 in c:\\users\\mehak\\appdata\\local\\programs\\python\\python311\\lib\\site-packages (from uvicorn[standard]>=0.18.3->chromadb) (14.1)\n",
      "Requirement already satisfied: cachetools<6.0,>=2.0.0 in c:\\users\\mehak\\appdata\\local\\programs\\python\\python311\\lib\\site-packages (from google-auth>=1.0.1->kubernetes>=28.1.0->chromadb) (5.5.0)\n",
      "Requirement already satisfied: pyasn1-modules>=0.2.1 in c:\\users\\mehak\\appdata\\local\\programs\\python\\python311\\lib\\site-packages (from google-auth>=1.0.1->kubernetes>=28.1.0->chromadb) (0.4.1)\n",
      "Requirement already satisfied: rsa<5,>=3.1.4 in c:\\users\\mehak\\appdata\\local\\programs\\python\\python311\\lib\\site-packages (from google-auth>=1.0.1->kubernetes>=28.1.0->chromadb) (4.9)\n",
      "Requirement already satisfied: filelock in c:\\users\\mehak\\appdata\\local\\programs\\python\\python311\\lib\\site-packages (from huggingface-hub<1.0,>=0.16.4->tokenizers>=0.13.2->chromadb) (3.16.1)\n",
      "Requirement already satisfied: fsspec>=2023.5.0 in c:\\users\\mehak\\appdata\\local\\programs\\python\\python311\\lib\\site-packages (from huggingface-hub<1.0,>=0.16.4->tokenizers>=0.13.2->chromadb) (2024.9.0)\n",
      "Requirement already satisfied: zipp>=3.20 in c:\\users\\mehak\\appdata\\local\\programs\\python\\python311\\lib\\site-packages (from importlib-metadata<=8.5.0,>=6.0->opentelemetry-api>=1.2.0->chromadb) (3.21.0)\n",
      "Requirement already satisfied: mdurl~=0.1 in c:\\users\\mehak\\appdata\\local\\programs\\python\\python311\\lib\\site-packages (from markdown-it-py>=2.2.0->rich>=10.11.0->chromadb) (0.1.2)\n",
      "Requirement already satisfied: charset-normalizer<4,>=2 in c:\\users\\mehak\\appdata\\local\\programs\\python\\python311\\lib\\site-packages (from requests->kubernetes>=28.1.0->chromadb) (3.4.1)\n",
      "Requirement already satisfied: sniffio>=1.1 in c:\\users\\mehak\\appdata\\local\\programs\\python\\python311\\lib\\site-packages (from anyio->httpx>=0.27.0->chromadb) (1.3.1)\n",
      "Requirement already satisfied: humanfriendly>=9.1 in c:\\users\\mehak\\appdata\\local\\programs\\python\\python311\\lib\\site-packages (from coloredlogs->onnxruntime>=1.14.1->chromadb) (10.0)\n",
      "Requirement already satisfied: mpmath<1.4,>=1.1.0 in c:\\users\\mehak\\appdata\\local\\programs\\python\\python311\\lib\\site-packages (from sympy->onnxruntime>=1.14.1->chromadb) (1.3.0)\n",
      "Requirement already satisfied: pyreadline3 in c:\\users\\mehak\\appdata\\local\\programs\\python\\python311\\lib\\site-packages (from humanfriendly>=9.1->coloredlogs->onnxruntime>=1.14.1->chromadb) (3.5.4)\n",
      "Requirement already satisfied: pyasn1<0.7.0,>=0.4.6 in c:\\users\\mehak\\appdata\\local\\programs\\python\\python311\\lib\\site-packages (from pyasn1-modules>=0.2.1->google-auth>=1.0.1->kubernetes>=28.1.0->chromadb) (0.6.1)\n"
     ]
    },
    {
     "name": "stderr",
     "output_type": "stream",
     "text": [
      "WARNING: Ignoring invalid distribution ~ (C:\\Users\\mehak\\AppData\\Local\\Programs\\Python\\Python311\\Lib\\site-packages)\n",
      "WARNING: Ignoring invalid distribution ~ (C:\\Users\\mehak\\AppData\\Local\\Programs\\Python\\Python311\\Lib\\site-packages)\n",
      "WARNING: Ignoring invalid distribution ~ (C:\\Users\\mehak\\AppData\\Local\\Programs\\Python\\Python311\\Lib\\site-packages)\n"
     ]
    }
   ],
   "source": [
    "!pip install chromadb"
   ]
  },
  {
   "cell_type": "code",
   "execution_count": 4,
   "metadata": {},
   "outputs": [
    {
     "name": "stdout",
     "output_type": "stream",
     "text": [
      "Requirement already satisfied: langchain-openai in c:\\users\\mehak\\appdata\\local\\programs\\python\\python311\\lib\\site-packages (0.3.0)\n",
      "Requirement already satisfied: langchain-core<0.4.0,>=0.3.29 in c:\\users\\mehak\\appdata\\local\\programs\\python\\python311\\lib\\site-packages (from langchain-openai) (0.3.29)\n",
      "Requirement already satisfied: openai<2.0.0,>=1.58.1 in c:\\users\\mehak\\appdata\\local\\programs\\python\\python311\\lib\\site-packages (from langchain-openai) (1.59.7)\n",
      "Requirement already satisfied: tiktoken<1,>=0.7 in c:\\users\\mehak\\appdata\\local\\programs\\python\\python311\\lib\\site-packages (from langchain-openai) (0.8.0)\n",
      "Requirement already satisfied: PyYAML>=5.3 in c:\\users\\mehak\\appdata\\local\\programs\\python\\python311\\lib\\site-packages (from langchain-core<0.4.0,>=0.3.29->langchain-openai) (6.0.2)\n",
      "Requirement already satisfied: jsonpatch<2.0,>=1.33 in c:\\users\\mehak\\appdata\\local\\programs\\python\\python311\\lib\\site-packages (from langchain-core<0.4.0,>=0.3.29->langchain-openai) (1.33)\n",
      "Requirement already satisfied: langsmith<0.3,>=0.1.125 in c:\\users\\mehak\\appdata\\local\\programs\\python\\python311\\lib\\site-packages (from langchain-core<0.4.0,>=0.3.29->langchain-openai) (0.2.10)\n",
      "Requirement already satisfied: packaging<25,>=23.2 in c:\\users\\mehak\\appdata\\local\\programs\\python\\python311\\lib\\site-packages (from langchain-core<0.4.0,>=0.3.29->langchain-openai) (24.2)\n",
      "Requirement already satisfied: pydantic<3.0.0,>=2.5.2 in c:\\users\\mehak\\appdata\\local\\programs\\python\\python311\\lib\\site-packages (from langchain-core<0.4.0,>=0.3.29->langchain-openai) (2.10.5)\n",
      "Requirement already satisfied: tenacity!=8.4.0,<10.0.0,>=8.1.0 in c:\\users\\mehak\\appdata\\local\\programs\\python\\python311\\lib\\site-packages (from langchain-core<0.4.0,>=0.3.29->langchain-openai) (9.0.0)\n",
      "Requirement already satisfied: typing-extensions>=4.7 in c:\\users\\mehak\\appdata\\local\\programs\\python\\python311\\lib\\site-packages (from langchain-core<0.4.0,>=0.3.29->langchain-openai) (4.12.2)\n",
      "Requirement already satisfied: anyio<5,>=3.5.0 in c:\\users\\mehak\\appdata\\local\\programs\\python\\python311\\lib\\site-packages (from openai<2.0.0,>=1.58.1->langchain-openai) (4.8.0)\n",
      "Requirement already satisfied: distro<2,>=1.7.0 in c:\\users\\mehak\\appdata\\local\\programs\\python\\python311\\lib\\site-packages (from openai<2.0.0,>=1.58.1->langchain-openai) (1.9.0)\n",
      "Requirement already satisfied: httpx<1,>=0.23.0 in c:\\users\\mehak\\appdata\\local\\programs\\python\\python311\\lib\\site-packages (from openai<2.0.0,>=1.58.1->langchain-openai) (0.28.1)\n",
      "Requirement already satisfied: jiter<1,>=0.4.0 in c:\\users\\mehak\\appdata\\local\\programs\\python\\python311\\lib\\site-packages (from openai<2.0.0,>=1.58.1->langchain-openai) (0.8.2)\n",
      "Requirement already satisfied: sniffio in c:\\users\\mehak\\appdata\\local\\programs\\python\\python311\\lib\\site-packages (from openai<2.0.0,>=1.58.1->langchain-openai) (1.3.1)\n",
      "Requirement already satisfied: tqdm>4 in c:\\users\\mehak\\appdata\\local\\programs\\python\\python311\\lib\\site-packages (from openai<2.0.0,>=1.58.1->langchain-openai) (4.67.1)\n",
      "Requirement already satisfied: regex>=2022.1.18 in c:\\users\\mehak\\appdata\\local\\programs\\python\\python311\\lib\\site-packages (from tiktoken<1,>=0.7->langchain-openai) (2024.11.6)\n",
      "Requirement already satisfied: requests>=2.26.0 in c:\\users\\mehak\\appdata\\local\\programs\\python\\python311\\lib\\site-packages (from tiktoken<1,>=0.7->langchain-openai) (2.32.3)\n",
      "Requirement already satisfied: idna>=2.8 in c:\\users\\mehak\\appdata\\local\\programs\\python\\python311\\lib\\site-packages (from anyio<5,>=3.5.0->openai<2.0.0,>=1.58.1->langchain-openai) (3.10)\n",
      "Requirement already satisfied: certifi in c:\\users\\mehak\\appdata\\local\\programs\\python\\python311\\lib\\site-packages (from httpx<1,>=0.23.0->openai<2.0.0,>=1.58.1->langchain-openai) (2024.12.14)\n",
      "Requirement already satisfied: httpcore==1.* in c:\\users\\mehak\\appdata\\local\\programs\\python\\python311\\lib\\site-packages (from httpx<1,>=0.23.0->openai<2.0.0,>=1.58.1->langchain-openai) (1.0.7)\n",
      "Requirement already satisfied: h11<0.15,>=0.13 in c:\\users\\mehak\\appdata\\local\\programs\\python\\python311\\lib\\site-packages (from httpcore==1.*->httpx<1,>=0.23.0->openai<2.0.0,>=1.58.1->langchain-openai) (0.14.0)\n",
      "Requirement already satisfied: jsonpointer>=1.9 in c:\\users\\mehak\\appdata\\local\\programs\\python\\python311\\lib\\site-packages (from jsonpatch<2.0,>=1.33->langchain-core<0.4.0,>=0.3.29->langchain-openai) (3.0.0)\n",
      "Requirement already satisfied: orjson<4.0.0,>=3.9.14 in c:\\users\\mehak\\appdata\\local\\programs\\python\\python311\\lib\\site-packages (from langsmith<0.3,>=0.1.125->langchain-core<0.4.0,>=0.3.29->langchain-openai) (3.10.14)\n",
      "Requirement already satisfied: requests-toolbelt<2.0.0,>=1.0.0 in c:\\users\\mehak\\appdata\\local\\programs\\python\\python311\\lib\\site-packages (from langsmith<0.3,>=0.1.125->langchain-core<0.4.0,>=0.3.29->langchain-openai) (1.0.0)\n",
      "Requirement already satisfied: annotated-types>=0.6.0 in c:\\users\\mehak\\appdata\\local\\programs\\python\\python311\\lib\\site-packages (from pydantic<3.0.0,>=2.5.2->langchain-core<0.4.0,>=0.3.29->langchain-openai) (0.7.0)\n",
      "Requirement already satisfied: pydantic-core==2.27.2 in c:\\users\\mehak\\appdata\\local\\programs\\python\\python311\\lib\\site-packages (from pydantic<3.0.0,>=2.5.2->langchain-core<0.4.0,>=0.3.29->langchain-openai) (2.27.2)\n",
      "Requirement already satisfied: charset-normalizer<4,>=2 in c:\\users\\mehak\\appdata\\local\\programs\\python\\python311\\lib\\site-packages (from requests>=2.26.0->tiktoken<1,>=0.7->langchain-openai) (3.4.1)\n",
      "Requirement already satisfied: urllib3<3,>=1.21.1 in c:\\users\\mehak\\appdata\\local\\programs\\python\\python311\\lib\\site-packages (from requests>=2.26.0->tiktoken<1,>=0.7->langchain-openai) (2.3.0)\n",
      "Requirement already satisfied: colorama in c:\\users\\mehak\\appdata\\local\\programs\\python\\python311\\lib\\site-packages (from tqdm>4->openai<2.0.0,>=1.58.1->langchain-openai) (0.4.6)\n"
     ]
    },
    {
     "name": "stderr",
     "output_type": "stream",
     "text": [
      "WARNING: Ignoring invalid distribution ~ (C:\\Users\\mehak\\AppData\\Local\\Programs\\Python\\Python311\\Lib\\site-packages)\n",
      "WARNING: Ignoring invalid distribution ~ (C:\\Users\\mehak\\AppData\\Local\\Programs\\Python\\Python311\\Lib\\site-packages)\n",
      "WARNING: Ignoring invalid distribution ~ (C:\\Users\\mehak\\AppData\\Local\\Programs\\Python\\Python311\\Lib\\site-packages)\n"
     ]
    }
   ],
   "source": [
    "!pip install langchain-openai"
   ]
  },
  {
   "cell_type": "code",
   "execution_count": 5,
   "metadata": {},
   "outputs": [
    {
     "name": "stdout",
     "output_type": "stream",
     "text": [
      "Requirement already satisfied: langchain-community in c:\\users\\mehak\\appdata\\local\\programs\\python\\python311\\lib\\site-packages (0.3.14)\n",
      "Requirement already satisfied: PyYAML>=5.3 in c:\\users\\mehak\\appdata\\local\\programs\\python\\python311\\lib\\site-packages (from langchain-community) (6.0.2)\n",
      "Requirement already satisfied: SQLAlchemy<3,>=1.4 in c:\\users\\mehak\\appdata\\local\\programs\\python\\python311\\lib\\site-packages (from langchain-community) (2.0.37)\n",
      "Requirement already satisfied: aiohttp<4.0.0,>=3.8.3 in c:\\users\\mehak\\appdata\\local\\programs\\python\\python311\\lib\\site-packages (from langchain-community) (3.11.11)\n",
      "Requirement already satisfied: dataclasses-json<0.7,>=0.5.7 in c:\\users\\mehak\\appdata\\local\\programs\\python\\python311\\lib\\site-packages (from langchain-community) (0.6.7)\n",
      "Requirement already satisfied: httpx-sse<0.5.0,>=0.4.0 in c:\\users\\mehak\\appdata\\local\\programs\\python\\python311\\lib\\site-packages (from langchain-community) (0.4.0)\n",
      "Requirement already satisfied: langchain<0.4.0,>=0.3.14 in c:\\users\\mehak\\appdata\\local\\programs\\python\\python311\\lib\\site-packages (from langchain-community) (0.3.14)\n",
      "Requirement already satisfied: langchain-core<0.4.0,>=0.3.29 in c:\\users\\mehak\\appdata\\local\\programs\\python\\python311\\lib\\site-packages (from langchain-community) (0.3.29)\n",
      "Requirement already satisfied: langsmith<0.3,>=0.1.125 in c:\\users\\mehak\\appdata\\local\\programs\\python\\python311\\lib\\site-packages (from langchain-community) (0.2.10)\n",
      "Requirement already satisfied: numpy<2,>=1.22.4 in c:\\users\\mehak\\appdata\\local\\programs\\python\\python311\\lib\\site-packages (from langchain-community) (1.26.4)\n",
      "Requirement already satisfied: pydantic-settings<3.0.0,>=2.4.0 in c:\\users\\mehak\\appdata\\local\\programs\\python\\python311\\lib\\site-packages (from langchain-community) (2.7.1)\n",
      "Requirement already satisfied: requests<3,>=2 in c:\\users\\mehak\\appdata\\local\\programs\\python\\python311\\lib\\site-packages (from langchain-community) (2.32.3)\n",
      "Requirement already satisfied: tenacity!=8.4.0,<10,>=8.1.0 in c:\\users\\mehak\\appdata\\local\\programs\\python\\python311\\lib\\site-packages (from langchain-community) (9.0.0)\n",
      "Requirement already satisfied: aiohappyeyeballs>=2.3.0 in c:\\users\\mehak\\appdata\\local\\programs\\python\\python311\\lib\\site-packages (from aiohttp<4.0.0,>=3.8.3->langchain-community) (2.4.4)\n",
      "Requirement already satisfied: aiosignal>=1.1.2 in c:\\users\\mehak\\appdata\\local\\programs\\python\\python311\\lib\\site-packages (from aiohttp<4.0.0,>=3.8.3->langchain-community) (1.3.2)\n",
      "Requirement already satisfied: attrs>=17.3.0 in c:\\users\\mehak\\appdata\\local\\programs\\python\\python311\\lib\\site-packages (from aiohttp<4.0.0,>=3.8.3->langchain-community) (24.3.0)\n",
      "Requirement already satisfied: frozenlist>=1.1.1 in c:\\users\\mehak\\appdata\\local\\programs\\python\\python311\\lib\\site-packages (from aiohttp<4.0.0,>=3.8.3->langchain-community) (1.5.0)\n",
      "Requirement already satisfied: multidict<7.0,>=4.5 in c:\\users\\mehak\\appdata\\local\\programs\\python\\python311\\lib\\site-packages (from aiohttp<4.0.0,>=3.8.3->langchain-community) (6.1.0)\n",
      "Requirement already satisfied: propcache>=0.2.0 in c:\\users\\mehak\\appdata\\local\\programs\\python\\python311\\lib\\site-packages (from aiohttp<4.0.0,>=3.8.3->langchain-community) (0.2.1)\n",
      "Requirement already satisfied: yarl<2.0,>=1.17.0 in c:\\users\\mehak\\appdata\\local\\programs\\python\\python311\\lib\\site-packages (from aiohttp<4.0.0,>=3.8.3->langchain-community) (1.18.3)\n",
      "Requirement already satisfied: marshmallow<4.0.0,>=3.18.0 in c:\\users\\mehak\\appdata\\local\\programs\\python\\python311\\lib\\site-packages (from dataclasses-json<0.7,>=0.5.7->langchain-community) (3.25.1)\n",
      "Requirement already satisfied: typing-inspect<1,>=0.4.0 in c:\\users\\mehak\\appdata\\local\\programs\\python\\python311\\lib\\site-packages (from dataclasses-json<0.7,>=0.5.7->langchain-community) (0.9.0)\n",
      "Requirement already satisfied: langchain-text-splitters<0.4.0,>=0.3.3 in c:\\users\\mehak\\appdata\\local\\programs\\python\\python311\\lib\\site-packages (from langchain<0.4.0,>=0.3.14->langchain-community) (0.3.5)\n",
      "Requirement already satisfied: pydantic<3.0.0,>=2.7.4 in c:\\users\\mehak\\appdata\\local\\programs\\python\\python311\\lib\\site-packages (from langchain<0.4.0,>=0.3.14->langchain-community) (2.10.5)\n",
      "Requirement already satisfied: jsonpatch<2.0,>=1.33 in c:\\users\\mehak\\appdata\\local\\programs\\python\\python311\\lib\\site-packages (from langchain-core<0.4.0,>=0.3.29->langchain-community) (1.33)\n",
      "Requirement already satisfied: packaging<25,>=23.2 in c:\\users\\mehak\\appdata\\local\\programs\\python\\python311\\lib\\site-packages (from langchain-core<0.4.0,>=0.3.29->langchain-community) (24.2)\n",
      "Requirement already satisfied: typing-extensions>=4.7 in c:\\users\\mehak\\appdata\\local\\programs\\python\\python311\\lib\\site-packages (from langchain-core<0.4.0,>=0.3.29->langchain-community) (4.12.2)\n",
      "Requirement already satisfied: httpx<1,>=0.23.0 in c:\\users\\mehak\\appdata\\local\\programs\\python\\python311\\lib\\site-packages (from langsmith<0.3,>=0.1.125->langchain-community) (0.28.1)\n",
      "Requirement already satisfied: orjson<4.0.0,>=3.9.14 in c:\\users\\mehak\\appdata\\local\\programs\\python\\python311\\lib\\site-packages (from langsmith<0.3,>=0.1.125->langchain-community) (3.10.14)\n",
      "Requirement already satisfied: requests-toolbelt<2.0.0,>=1.0.0 in c:\\users\\mehak\\appdata\\local\\programs\\python\\python311\\lib\\site-packages (from langsmith<0.3,>=0.1.125->langchain-community) (1.0.0)\n",
      "Requirement already satisfied: python-dotenv>=0.21.0 in c:\\users\\mehak\\appdata\\local\\programs\\python\\python311\\lib\\site-packages (from pydantic-settings<3.0.0,>=2.4.0->langchain-community) (1.0.1)\n",
      "Requirement already satisfied: charset-normalizer<4,>=2 in c:\\users\\mehak\\appdata\\local\\programs\\python\\python311\\lib\\site-packages (from requests<3,>=2->langchain-community) (3.4.1)\n",
      "Requirement already satisfied: idna<4,>=2.5 in c:\\users\\mehak\\appdata\\local\\programs\\python\\python311\\lib\\site-packages (from requests<3,>=2->langchain-community) (3.10)\n",
      "Requirement already satisfied: urllib3<3,>=1.21.1 in c:\\users\\mehak\\appdata\\local\\programs\\python\\python311\\lib\\site-packages (from requests<3,>=2->langchain-community) (2.3.0)\n",
      "Requirement already satisfied: certifi>=2017.4.17 in c:\\users\\mehak\\appdata\\local\\programs\\python\\python311\\lib\\site-packages (from requests<3,>=2->langchain-community) (2024.12.14)\n",
      "Requirement already satisfied: greenlet!=0.4.17 in c:\\users\\mehak\\appdata\\local\\programs\\python\\python311\\lib\\site-packages (from SQLAlchemy<3,>=1.4->langchain-community) (3.1.1)\n",
      "Requirement already satisfied: anyio in c:\\users\\mehak\\appdata\\local\\programs\\python\\python311\\lib\\site-packages (from httpx<1,>=0.23.0->langsmith<0.3,>=0.1.125->langchain-community) (4.8.0)\n",
      "Requirement already satisfied: httpcore==1.* in c:\\users\\mehak\\appdata\\local\\programs\\python\\python311\\lib\\site-packages (from httpx<1,>=0.23.0->langsmith<0.3,>=0.1.125->langchain-community) (1.0.7)\n",
      "Requirement already satisfied: h11<0.15,>=0.13 in c:\\users\\mehak\\appdata\\local\\programs\\python\\python311\\lib\\site-packages (from httpcore==1.*->httpx<1,>=0.23.0->langsmith<0.3,>=0.1.125->langchain-community) (0.14.0)\n",
      "Requirement already satisfied: jsonpointer>=1.9 in c:\\users\\mehak\\appdata\\local\\programs\\python\\python311\\lib\\site-packages (from jsonpatch<2.0,>=1.33->langchain-core<0.4.0,>=0.3.29->langchain-community) (3.0.0)\n",
      "Requirement already satisfied: annotated-types>=0.6.0 in c:\\users\\mehak\\appdata\\local\\programs\\python\\python311\\lib\\site-packages (from pydantic<3.0.0,>=2.7.4->langchain<0.4.0,>=0.3.14->langchain-community) (0.7.0)\n",
      "Requirement already satisfied: pydantic-core==2.27.2 in c:\\users\\mehak\\appdata\\local\\programs\\python\\python311\\lib\\site-packages (from pydantic<3.0.0,>=2.7.4->langchain<0.4.0,>=0.3.14->langchain-community) (2.27.2)\n",
      "Requirement already satisfied: mypy-extensions>=0.3.0 in c:\\users\\mehak\\appdata\\local\\programs\\python\\python311\\lib\\site-packages (from typing-inspect<1,>=0.4.0->dataclasses-json<0.7,>=0.5.7->langchain-community) (1.0.0)\n",
      "Requirement already satisfied: sniffio>=1.1 in c:\\users\\mehak\\appdata\\local\\programs\\python\\python311\\lib\\site-packages (from anyio->httpx<1,>=0.23.0->langsmith<0.3,>=0.1.125->langchain-community) (1.3.1)\n"
     ]
    },
    {
     "name": "stderr",
     "output_type": "stream",
     "text": [
      "WARNING: Ignoring invalid distribution ~ (C:\\Users\\mehak\\AppData\\Local\\Programs\\Python\\Python311\\Lib\\site-packages)\n",
      "WARNING: Ignoring invalid distribution ~ (C:\\Users\\mehak\\AppData\\Local\\Programs\\Python\\Python311\\Lib\\site-packages)\n",
      "WARNING: Ignoring invalid distribution ~ (C:\\Users\\mehak\\AppData\\Local\\Programs\\Python\\Python311\\Lib\\site-packages)\n"
     ]
    }
   ],
   "source": [
    "!pip install langchain-community"
   ]
  },
  {
   "cell_type": "code",
   "execution_count": 6,
   "metadata": {},
   "outputs": [
    {
     "name": "stdout",
     "output_type": "stream",
     "text": [
      "Requirement already satisfied: gradio in c:\\users\\mehak\\appdata\\local\\programs\\python\\python311\\lib\\site-packages (5.13.0)\n",
      "Requirement already satisfied: aiofiles<24.0,>=22.0 in c:\\users\\mehak\\appdata\\local\\programs\\python\\python311\\lib\\site-packages (from gradio) (23.2.1)\n",
      "Requirement already satisfied: anyio<5.0,>=3.0 in c:\\users\\mehak\\appdata\\local\\programs\\python\\python311\\lib\\site-packages (from gradio) (4.8.0)\n",
      "Requirement already satisfied: fastapi<1.0,>=0.115.2 in c:\\users\\mehak\\appdata\\local\\programs\\python\\python311\\lib\\site-packages (from gradio) (0.115.6)\n",
      "Requirement already satisfied: ffmpy in c:\\users\\mehak\\appdata\\local\\programs\\python\\python311\\lib\\site-packages (from gradio) (0.5.0)\n",
      "Requirement already satisfied: gradio-client==1.6.0 in c:\\users\\mehak\\appdata\\local\\programs\\python\\python311\\lib\\site-packages (from gradio) (1.6.0)\n",
      "Requirement already satisfied: httpx>=0.24.1 in c:\\users\\mehak\\appdata\\local\\programs\\python\\python311\\lib\\site-packages (from gradio) (0.28.1)\n",
      "Requirement already satisfied: huggingface-hub>=0.25.1 in c:\\users\\mehak\\appdata\\local\\programs\\python\\python311\\lib\\site-packages (from gradio) (0.27.1)\n",
      "Requirement already satisfied: jinja2<4.0 in c:\\users\\mehak\\appdata\\local\\programs\\python\\python311\\lib\\site-packages (from gradio) (3.1.5)\n",
      "Requirement already satisfied: markupsafe~=2.0 in c:\\users\\mehak\\appdata\\local\\programs\\python\\python311\\lib\\site-packages (from gradio) (2.1.5)\n",
      "Requirement already satisfied: numpy<3.0,>=1.0 in c:\\users\\mehak\\appdata\\local\\programs\\python\\python311\\lib\\site-packages (from gradio) (1.26.4)\n",
      "Requirement already satisfied: orjson~=3.0 in c:\\users\\mehak\\appdata\\local\\programs\\python\\python311\\lib\\site-packages (from gradio) (3.10.14)\n",
      "Requirement already satisfied: packaging in c:\\users\\mehak\\appdata\\local\\programs\\python\\python311\\lib\\site-packages (from gradio) (24.2)\n",
      "Requirement already satisfied: pandas<3.0,>=1.0 in c:\\users\\mehak\\appdata\\local\\programs\\python\\python311\\lib\\site-packages (from gradio) (2.2.3)\n",
      "Requirement already satisfied: pillow<12.0,>=8.0 in c:\\users\\mehak\\appdata\\local\\programs\\python\\python311\\lib\\site-packages (from gradio) (11.1.0)\n",
      "Requirement already satisfied: pydantic>=2.0 in c:\\users\\mehak\\appdata\\local\\programs\\python\\python311\\lib\\site-packages (from gradio) (2.10.5)\n",
      "Requirement already satisfied: pydub in c:\\users\\mehak\\appdata\\local\\programs\\python\\python311\\lib\\site-packages (from gradio) (0.25.1)\n",
      "Requirement already satisfied: python-multipart>=0.0.18 in c:\\users\\mehak\\appdata\\local\\programs\\python\\python311\\lib\\site-packages (from gradio) (0.0.20)\n",
      "Requirement already satisfied: pyyaml<7.0,>=5.0 in c:\\users\\mehak\\appdata\\local\\programs\\python\\python311\\lib\\site-packages (from gradio) (6.0.2)\n",
      "Requirement already satisfied: ruff>=0.2.2 in c:\\users\\mehak\\appdata\\local\\programs\\python\\python311\\lib\\site-packages (from gradio) (0.9.2)\n",
      "Requirement already satisfied: safehttpx<0.2.0,>=0.1.6 in c:\\users\\mehak\\appdata\\local\\programs\\python\\python311\\lib\\site-packages (from gradio) (0.1.6)\n",
      "Requirement already satisfied: semantic-version~=2.0 in c:\\users\\mehak\\appdata\\local\\programs\\python\\python311\\lib\\site-packages (from gradio) (2.10.0)\n",
      "Requirement already satisfied: starlette<1.0,>=0.40.0 in c:\\users\\mehak\\appdata\\local\\programs\\python\\python311\\lib\\site-packages (from gradio) (0.41.3)\n",
      "Requirement already satisfied: tomlkit<0.14.0,>=0.12.0 in c:\\users\\mehak\\appdata\\local\\programs\\python\\python311\\lib\\site-packages (from gradio) (0.13.2)\n",
      "Requirement already satisfied: typer<1.0,>=0.12 in c:\\users\\mehak\\appdata\\local\\programs\\python\\python311\\lib\\site-packages (from gradio) (0.15.1)\n",
      "Requirement already satisfied: typing-extensions~=4.0 in c:\\users\\mehak\\appdata\\local\\programs\\python\\python311\\lib\\site-packages (from gradio) (4.12.2)\n",
      "Requirement already satisfied: uvicorn>=0.14.0 in c:\\users\\mehak\\appdata\\local\\programs\\python\\python311\\lib\\site-packages (from gradio) (0.34.0)\n",
      "Requirement already satisfied: fsspec in c:\\users\\mehak\\appdata\\local\\programs\\python\\python311\\lib\\site-packages (from gradio-client==1.6.0->gradio) (2024.9.0)\n",
      "Requirement already satisfied: websockets<15.0,>=10.0 in c:\\users\\mehak\\appdata\\local\\programs\\python\\python311\\lib\\site-packages (from gradio-client==1.6.0->gradio) (14.1)\n",
      "Requirement already satisfied: idna>=2.8 in c:\\users\\mehak\\appdata\\local\\programs\\python\\python311\\lib\\site-packages (from anyio<5.0,>=3.0->gradio) (3.10)\n",
      "Requirement already satisfied: sniffio>=1.1 in c:\\users\\mehak\\appdata\\local\\programs\\python\\python311\\lib\\site-packages (from anyio<5.0,>=3.0->gradio) (1.3.1)\n",
      "Requirement already satisfied: certifi in c:\\users\\mehak\\appdata\\local\\programs\\python\\python311\\lib\\site-packages (from httpx>=0.24.1->gradio) (2024.12.14)\n",
      "Requirement already satisfied: httpcore==1.* in c:\\users\\mehak\\appdata\\local\\programs\\python\\python311\\lib\\site-packages (from httpx>=0.24.1->gradio) (1.0.7)\n",
      "Requirement already satisfied: h11<0.15,>=0.13 in c:\\users\\mehak\\appdata\\local\\programs\\python\\python311\\lib\\site-packages (from httpcore==1.*->httpx>=0.24.1->gradio) (0.14.0)\n",
      "Requirement already satisfied: filelock in c:\\users\\mehak\\appdata\\local\\programs\\python\\python311\\lib\\site-packages (from huggingface-hub>=0.25.1->gradio) (3.16.1)\n",
      "Requirement already satisfied: requests in c:\\users\\mehak\\appdata\\local\\programs\\python\\python311\\lib\\site-packages (from huggingface-hub>=0.25.1->gradio) (2.32.3)\n",
      "Requirement already satisfied: tqdm>=4.42.1 in c:\\users\\mehak\\appdata\\local\\programs\\python\\python311\\lib\\site-packages (from huggingface-hub>=0.25.1->gradio) (4.67.1)\n",
      "Requirement already satisfied: python-dateutil>=2.8.2 in c:\\users\\mehak\\appdata\\roaming\\python\\python311\\site-packages (from pandas<3.0,>=1.0->gradio) (2.9.0.post0)\n",
      "Requirement already satisfied: pytz>=2020.1 in c:\\users\\mehak\\appdata\\local\\programs\\python\\python311\\lib\\site-packages (from pandas<3.0,>=1.0->gradio) (2024.2)\n",
      "Requirement already satisfied: tzdata>=2022.7 in c:\\users\\mehak\\appdata\\local\\programs\\python\\python311\\lib\\site-packages (from pandas<3.0,>=1.0->gradio) (2024.2)\n",
      "Requirement already satisfied: annotated-types>=0.6.0 in c:\\users\\mehak\\appdata\\local\\programs\\python\\python311\\lib\\site-packages (from pydantic>=2.0->gradio) (0.7.0)\n",
      "Requirement already satisfied: pydantic-core==2.27.2 in c:\\users\\mehak\\appdata\\local\\programs\\python\\python311\\lib\\site-packages (from pydantic>=2.0->gradio) (2.27.2)\n",
      "Requirement already satisfied: click>=8.0.0 in c:\\users\\mehak\\appdata\\local\\programs\\python\\python311\\lib\\site-packages (from typer<1.0,>=0.12->gradio) (8.1.8)\n",
      "Requirement already satisfied: shellingham>=1.3.0 in c:\\users\\mehak\\appdata\\local\\programs\\python\\python311\\lib\\site-packages (from typer<1.0,>=0.12->gradio) (1.5.4)\n",
      "Requirement already satisfied: rich>=10.11.0 in c:\\users\\mehak\\appdata\\local\\programs\\python\\python311\\lib\\site-packages (from typer<1.0,>=0.12->gradio) (13.9.4)\n",
      "Requirement already satisfied: colorama in c:\\users\\mehak\\appdata\\local\\programs\\python\\python311\\lib\\site-packages (from click>=8.0.0->typer<1.0,>=0.12->gradio) (0.4.6)\n",
      "Requirement already satisfied: six>=1.5 in c:\\users\\mehak\\appdata\\roaming\\python\\python311\\site-packages (from python-dateutil>=2.8.2->pandas<3.0,>=1.0->gradio) (1.17.0)\n",
      "Requirement already satisfied: markdown-it-py>=2.2.0 in c:\\users\\mehak\\appdata\\local\\programs\\python\\python311\\lib\\site-packages (from rich>=10.11.0->typer<1.0,>=0.12->gradio) (3.0.0)\n",
      "Requirement already satisfied: pygments<3.0.0,>=2.13.0 in c:\\users\\mehak\\appdata\\roaming\\python\\python311\\site-packages (from rich>=10.11.0->typer<1.0,>=0.12->gradio) (2.19.1)\n",
      "Requirement already satisfied: charset-normalizer<4,>=2 in c:\\users\\mehak\\appdata\\local\\programs\\python\\python311\\lib\\site-packages (from requests->huggingface-hub>=0.25.1->gradio) (3.4.1)\n",
      "Requirement already satisfied: urllib3<3,>=1.21.1 in c:\\users\\mehak\\appdata\\local\\programs\\python\\python311\\lib\\site-packages (from requests->huggingface-hub>=0.25.1->gradio) (2.3.0)\n",
      "Requirement already satisfied: mdurl~=0.1 in c:\\users\\mehak\\appdata\\local\\programs\\python\\python311\\lib\\site-packages (from markdown-it-py>=2.2.0->rich>=10.11.0->typer<1.0,>=0.12->gradio) (0.1.2)\n"
     ]
    },
    {
     "name": "stderr",
     "output_type": "stream",
     "text": [
      "WARNING: Ignoring invalid distribution ~ (C:\\Users\\mehak\\AppData\\Local\\Programs\\Python\\Python311\\Lib\\site-packages)\n",
      "WARNING: Ignoring invalid distribution ~ (C:\\Users\\mehak\\AppData\\Local\\Programs\\Python\\Python311\\Lib\\site-packages)\n",
      "WARNING: Ignoring invalid distribution ~ (C:\\Users\\mehak\\AppData\\Local\\Programs\\Python\\Python311\\Lib\\site-packages)\n"
     ]
    }
   ],
   "source": [
    "!pip install gradio"
   ]
  },
  {
   "cell_type": "code",
   "execution_count": 7,
   "metadata": {},
   "outputs": [
    {
     "name": "stderr",
     "output_type": "stream",
     "text": [
      "WARNING: Ignoring invalid distribution ~ (C:\\Users\\mehak\\AppData\\Local\\Programs\\Python\\Python311\\Lib\\site-packages)\n",
      "WARNING: Ignoring invalid distribution ~ (C:\\Users\\mehak\\AppData\\Local\\Programs\\Python\\Python311\\Lib\\site-packages)\n",
      "WARNING: Ignoring invalid distribution ~ (C:\\Users\\mehak\\AppData\\Local\\Programs\\Python\\Python311\\Lib\\site-packages)\n"
     ]
    },
    {
     "name": "stdout",
     "output_type": "stream",
     "text": [
      "Requirement already satisfied: openai in c:\\users\\mehak\\appdata\\local\\programs\\python\\python311\\lib\\site-packages (1.59.7)\n",
      "Requirement already satisfied: anyio<5,>=3.5.0 in c:\\users\\mehak\\appdata\\local\\programs\\python\\python311\\lib\\site-packages (from openai) (4.8.0)\n",
      "Requirement already satisfied: distro<2,>=1.7.0 in c:\\users\\mehak\\appdata\\local\\programs\\python\\python311\\lib\\site-packages (from openai) (1.9.0)\n",
      "Requirement already satisfied: httpx<1,>=0.23.0 in c:\\users\\mehak\\appdata\\local\\programs\\python\\python311\\lib\\site-packages (from openai) (0.28.1)\n",
      "Requirement already satisfied: jiter<1,>=0.4.0 in c:\\users\\mehak\\appdata\\local\\programs\\python\\python311\\lib\\site-packages (from openai) (0.8.2)\n",
      "Requirement already satisfied: pydantic<3,>=1.9.0 in c:\\users\\mehak\\appdata\\local\\programs\\python\\python311\\lib\\site-packages (from openai) (2.10.5)\n",
      "Requirement already satisfied: sniffio in c:\\users\\mehak\\appdata\\local\\programs\\python\\python311\\lib\\site-packages (from openai) (1.3.1)\n",
      "Requirement already satisfied: tqdm>4 in c:\\users\\mehak\\appdata\\local\\programs\\python\\python311\\lib\\site-packages (from openai) (4.67.1)\n",
      "Requirement already satisfied: typing-extensions<5,>=4.11 in c:\\users\\mehak\\appdata\\local\\programs\\python\\python311\\lib\\site-packages (from openai) (4.12.2)\n",
      "Requirement already satisfied: idna>=2.8 in c:\\users\\mehak\\appdata\\local\\programs\\python\\python311\\lib\\site-packages (from anyio<5,>=3.5.0->openai) (3.10)\n",
      "Requirement already satisfied: certifi in c:\\users\\mehak\\appdata\\local\\programs\\python\\python311\\lib\\site-packages (from httpx<1,>=0.23.0->openai) (2024.12.14)\n",
      "Requirement already satisfied: httpcore==1.* in c:\\users\\mehak\\appdata\\local\\programs\\python\\python311\\lib\\site-packages (from httpx<1,>=0.23.0->openai) (1.0.7)\n",
      "Requirement already satisfied: h11<0.15,>=0.13 in c:\\users\\mehak\\appdata\\local\\programs\\python\\python311\\lib\\site-packages (from httpcore==1.*->httpx<1,>=0.23.0->openai) (0.14.0)\n",
      "Requirement already satisfied: annotated-types>=0.6.0 in c:\\users\\mehak\\appdata\\local\\programs\\python\\python311\\lib\\site-packages (from pydantic<3,>=1.9.0->openai) (0.7.0)\n",
      "Requirement already satisfied: pydantic-core==2.27.2 in c:\\users\\mehak\\appdata\\local\\programs\\python\\python311\\lib\\site-packages (from pydantic<3,>=1.9.0->openai) (2.27.2)\n",
      "Requirement already satisfied: colorama in c:\\users\\mehak\\appdata\\local\\programs\\python\\python311\\lib\\site-packages (from tqdm>4->openai) (0.4.6)\n"
     ]
    }
   ],
   "source": [
    "!pip install openai"
   ]
  },
  {
   "cell_type": "code",
   "execution_count": 8,
   "metadata": {},
   "outputs": [
    {
     "name": "stdout",
     "output_type": "stream",
     "text": [
      "Requirement already satisfied: whisper in c:\\users\\mehak\\appdata\\local\\programs\\python\\python311\\lib\\site-packages (1.1.10)\n",
      "Requirement already satisfied: six in c:\\users\\mehak\\appdata\\roaming\\python\\python311\\site-packages (from whisper) (1.17.0)\n"
     ]
    },
    {
     "name": "stderr",
     "output_type": "stream",
     "text": [
      "WARNING: Ignoring invalid distribution ~ (C:\\Users\\mehak\\AppData\\Local\\Programs\\Python\\Python311\\Lib\\site-packages)\n",
      "WARNING: Ignoring invalid distribution ~ (C:\\Users\\mehak\\AppData\\Local\\Programs\\Python\\Python311\\Lib\\site-packages)\n",
      "WARNING: Ignoring invalid distribution ~ (C:\\Users\\mehak\\AppData\\Local\\Programs\\Python\\Python311\\Lib\\site-packages)\n"
     ]
    }
   ],
   "source": [
    "!pip install whisper"
   ]
  },
  {
   "cell_type": "code",
   "execution_count": 9,
   "metadata": {},
   "outputs": [
    {
     "name": "stdout",
     "output_type": "stream",
     "text": [
      "Requirement already satisfied: tiktoken in c:\\users\\mehak\\appdata\\local\\programs\\python\\python311\\lib\\site-packages (0.8.0)\n",
      "Requirement already satisfied: regex>=2022.1.18 in c:\\users\\mehak\\appdata\\local\\programs\\python\\python311\\lib\\site-packages (from tiktoken) (2024.11.6)\n",
      "Requirement already satisfied: requests>=2.26.0 in c:\\users\\mehak\\appdata\\local\\programs\\python\\python311\\lib\\site-packages (from tiktoken) (2.32.3)\n",
      "Requirement already satisfied: charset-normalizer<4,>=2 in c:\\users\\mehak\\appdata\\local\\programs\\python\\python311\\lib\\site-packages (from requests>=2.26.0->tiktoken) (3.4.1)\n",
      "Requirement already satisfied: idna<4,>=2.5 in c:\\users\\mehak\\appdata\\local\\programs\\python\\python311\\lib\\site-packages (from requests>=2.26.0->tiktoken) (3.10)\n",
      "Requirement already satisfied: urllib3<3,>=1.21.1 in c:\\users\\mehak\\appdata\\local\\programs\\python\\python311\\lib\\site-packages (from requests>=2.26.0->tiktoken) (2.3.0)\n",
      "Requirement already satisfied: certifi>=2017.4.17 in c:\\users\\mehak\\appdata\\local\\programs\\python\\python311\\lib\\site-packages (from requests>=2.26.0->tiktoken) (2024.12.14)\n"
     ]
    },
    {
     "name": "stderr",
     "output_type": "stream",
     "text": [
      "WARNING: Ignoring invalid distribution ~ (C:\\Users\\mehak\\AppData\\Local\\Programs\\Python\\Python311\\Lib\\site-packages)\n",
      "WARNING: Ignoring invalid distribution ~ (C:\\Users\\mehak\\AppData\\Local\\Programs\\Python\\Python311\\Lib\\site-packages)\n",
      "WARNING: Ignoring invalid distribution ~ (C:\\Users\\mehak\\AppData\\Local\\Programs\\Python\\Python311\\Lib\\site-packages)\n"
     ]
    }
   ],
   "source": [
    "!pip install tiktoken"
   ]
  },
  {
   "cell_type": "code",
   "execution_count": 10,
   "metadata": {},
   "outputs": [
    {
     "name": "stdout",
     "output_type": "stream",
     "text": [
      "Transcript for 2u4ItZerRac:\n",
      "[Music] the pros and cons of living in Germany today we're going to talk about the pros and cons of living in Germany Germany is an amazing country with a strong economy lots of culture great infrastructure and friendly people but that doesn't mean it's the right place for everyone in this video we'll look at all aspects of life in Germany so you can decide if it's the right move for you so let's get started Pros living in Germany is a great experience it offers many advantages both long and sho\n",
      "Transcript for I2zF1I60hPg:\n",
      "should you move to Germany that's an easy question to a hard answer but I'm going to try my [Music] best hi my name is Fernando I have been living in Munich Germany for eight years now and yeah I have a lot of experience I say and I'm very happy to kind of like give you some ideas and some stories to will probably help you make a better decision if you should move to Germany or not the first thing of course is that there are many reasons why you are probably moving to Germany either you got a a \n",
      "Transcript for 8xqSF-uHCUs:\n",
      "here in Germany the government is meeting this week to discuss new measures to more easily Deport migrants whose Asylum application was rejected or who have been convicted of certain crimes it's a controversial Topic in some areas of Germany but not in parts of the East where the anti-immigration alternative for Germany is the strongest political party many newly arrived migrants there worry that they are no longer welcome here because of war and I want to have a safe life here I'm 100% confiden\n",
      "Transcript for LtmS-c1pChY:\n",
      "the alternative for Germany afd party has unveiled a radical new approach to immigration policy signaling a potential shift in the nation's migration landscape Party leaders have proposed stringent measures that could dramatically reshape Germany's approach to foreign Nationals and border control afd leadership has outlined a comprehensive strategy targeting what they describe as excessive immigration the proposed plan includes significant restrictions on Asylum Seekers family reunification and \n"
     ]
    }
   ],
   "source": [
    "from youtube_transcript_api import YouTubeTranscriptApi\n",
    "\n",
    "def get_video_transcript(video_id):\n",
    "    \"\"\"\n",
    "    Fetch transcript for a given YouTube video ID.\n",
    "    \"\"\"\n",
    "    try:\n",
    "        transcript = YouTubeTranscriptApi.get_transcript(video_id)\n",
    "        transcript_text = \" \".join([item['text'] for item in transcript if 'text' in item])\n",
    "        return transcript_text\n",
    "    except Exception as e:\n",
    "        print(f\"Error retrieving transcript for video {video_id}: {e}\")\n",
    "        return None\n",
    "\n",
    "# Example usage with a list of video IDs\n",
    "video_ids = ['2u4ItZerRac', 'I2zF1I60hPg', '8xqSF-uHCUs', 'LtmS-c1pChY']\n",
    "transcripts = {}\n",
    "\n",
    "# Fetch and print the transcript for each video\n",
    "for video_id in video_ids:\n",
    "    transcript = get_video_transcript(video_id)\n",
    "    if transcript:\n",
    "        transcripts[video_id] = transcript\n",
    "    else:\n",
    "        print(f\"No transcript available for video {video_id}\")\n",
    "\n",
    "# Display the fetched transcripts\n",
    "for video_id, transcript in transcripts.items():\n",
    "    print(f\"Transcript for {video_id}:\")\n",
    "    print(transcript[:500])  # Display the first 500 characters of each transcript for preview"
   ]
  },
  {
   "cell_type": "code",
   "execution_count": 11,
   "metadata": {},
   "outputs": [
    {
     "name": "stderr",
     "output_type": "stream",
     "text": [
      "c:\\Users\\mehak\\AppData\\Local\\Programs\\Python\\Python311\\Lib\\site-packages\\tqdm\\auto.py:21: TqdmWarning: IProgress not found. Please update jupyter and ipywidgets. See https://ipywidgets.readthedocs.io/en/stable/user_install.html\n",
      "  from .autonotebook import tqdm as notebook_tqdm\n"
     ]
    },
    {
     "name": "stdout",
     "output_type": "stream",
     "text": [
      "Stored embedding for 2u4ItZerRac\n",
      "Stored embedding for I2zF1I60hPg\n",
      "Stored embedding for 8xqSF-uHCUs\n",
      "Stored embedding for LtmS-c1pChY\n"
     ]
    }
   ],
   "source": [
    "import chromadb\n",
    "from sentence_transformers import SentenceTransformer\n",
    "\n",
    "# Initialize ChromaDB\n",
    "chroma_client = chromadb.Client()\n",
    "\n",
    "# Create a collection in ChromaDB\n",
    "collection = chroma_client.create_collection(\"youtube_video_transcripts2\")\n",
    "\n",
    "# Initialize the SentenceTransformer model for embedding text\n",
    "sentence_model = SentenceTransformer('all-mpnet-base-v2')\n",
    "\n",
    "def embed_text(text):\n",
    "    \"\"\"\n",
    "    Convert text into embeddings using SentenceTransformer.\n",
    "    \"\"\"\n",
    "    return sentence_model.encode([text])[0]\n",
    "\n",
    "def upsert_to_chromadb(video_id, transcript_text):\n",
    "    \"\"\"\n",
    "    Store video transcript embeddings in ChromaDB.\n",
    "    \"\"\"\n",
    "    embedding = embed_text(transcript_text)\n",
    "    collection.upsert(\n",
    "        ids=[video_id],  # Adding the 'ids' argument with the video_id\n",
    "        embeddings=[embedding],\n",
    "        metadatas=[{\"video_id\": video_id, \"transcript\": transcript_text}]\n",
    "    )\n",
    "\n",
    "# Upsert all transcripts into ChromaDB\n",
    "for video_id, transcript in transcripts.items():\n",
    "    upsert_to_chromadb(video_id, transcript)\n",
    "    print(f\"Stored embedding for {video_id}\")"
   ]
  },
  {
   "cell_type": "code",
   "execution_count": 12,
   "metadata": {},
   "outputs": [
    {
     "name": "stdout",
     "output_type": "stream",
     "text": [
      "Requirement already satisfied: python-dotenv in c:\\users\\mehak\\appdata\\local\\programs\\python\\python311\\lib\\site-packages (1.0.1)\n",
      "Note: you may need to restart the kernel to use updated packages.\n"
     ]
    },
    {
     "name": "stderr",
     "output_type": "stream",
     "text": [
      "WARNING: Ignoring invalid distribution ~ (c:\\Users\\mehak\\AppData\\Local\\Programs\\Python\\Python311\\Lib\\site-packages)\n",
      "WARNING: Ignoring invalid distribution ~ (c:\\Users\\mehak\\AppData\\Local\\Programs\\Python\\Python311\\Lib\\site-packages)\n",
      "WARNING: Ignoring invalid distribution ~ (c:\\Users\\mehak\\AppData\\Local\\Programs\\Python\\Python311\\Lib\\site-packages)\n"
     ]
    }
   ],
   "source": [
    "pip install python-dotenv"
   ]
  },
  {
   "cell_type": "code",
   "execution_count": 14,
   "metadata": {},
   "outputs": [
    {
     "name": "stdout",
     "output_type": "stream",
     "text": [
      "Stored embedding for 2u4ItZerRac\n",
      "Stored embedding for I2zF1I60hPg\n",
      "Stored embedding for 8xqSF-uHCUs\n",
      "Stored embedding for LtmS-c1pChY\n",
      "Results: {'ids': [['2u4ItZerRac']], 'embeddings': None, 'documents': [[None]], 'uris': None, 'data': None, 'metadatas': [[{'transcript': \"[Music] the pros and cons of living in Germany today we're going to talk about the pros and cons of living in Germany Germany is an amazing country with a strong economy lots of culture great infrastructure and friendly people but that doesn't mean it's the right place for everyone in this video we'll look at all aspects of life in Germany so you can decide if it's the right move for you so let's get started Pros living in Germany is a great experience it offers many advantages both long and shortterm that make it an attractive destination for those considering making the move here are some of the pros of living in Germany one free education for more than 25 years Germany has offered tuition-free higher education at public universities with no charge for most courses and little no cost for administrative fees this means that students coming from all over the world can pursue their degree programs without worrying about expensive tuition costs moreover those studying in certain Fields even have access to Grants and scholarships which cover living expenses as well in addition to this incredible benefit German universities also provide high quality instruction from some of the finest academic Minds in Europe with famous institutions such as humbold University Berlin leading the way in research and Innovation you are sure to receive an excellent standard of learning whether you're taking up a course on engineering or literature two drinkable tap water living in Germany certainly comes with a lot of perks from the delicious sausages to the breathtaking cities but one perk that doesn't often get mentioned is how drinkable tap water in Germany is it's true and it's really quite remarkable of course not all German towns have perfect tap water but by far most do in fact many Germans believe their drinking water is so good because it's monitored more stringently than other countries and for sure there are no worries about added chemicals or nasty tastes what could be better three unemployment benefits if find themselves out of work due to whatever reason don't fret your well-being is taken care of thanks to the German government's generous Provisions for unemployment insurance unemployment insurance offers more than just monthly benefits to help you find job for instance recipients can utilize up to 50% of their benefit to continue their education or training at an accredited Institute making them more marketable for future work this feature makes Germany's system truly unique amongst its counterparts across Europe four Germans are very punctual ah the Germans and their punctuality it's one of the foundations of life in Germany it doesn't matter if you're running late to a meeting eating dinner with friends or just taking the bus if you live in Germany and don't arrive on time be prepared to get some judging looks for those unfamiliar with German culture schedules and arrival times can seem like an implicit expectation people may start mentally counting down 5 minutes before your planned arrival time but being fashionably late is not accepted here the pros of living around punctual people first off no more waiting for late friends you'll see someone at 6:00 p.m. if they claim they'll be there the 5 minute delay phone calls are over five very livable if you're looking for a fantastic country to live Germany should be your first choice Germany has exceptional quality of life and some of the world's most beautiful cities and towns to begin life in Germany is safe Germany's low crime rate is due to its tight regulations and extensive security measures Germany's cultural offerings and safety make it livable from concerts and festivals like October Fest to wonderful galleries like alter naal Gallery Berlin you can explore fantastic new experiences and learn about European art and culture six efficient public transport Germany has very efficient public transport systems that's right no more worrying about finding a parking spot no more car payments and insurance costs instead you get to hop on a bus or train and take advantage of free Wi-Fi while you travel what's even better is that most cities offer discounts for students or those with limited incomes so everyone has access to Affordable transport options plus when it comes to safety there are cameras on all trains and buses throughout the country making sure that your journey is secure seven Germans are fairly honest and reliable living in Germany can be an absolute dream come true especially if you value honesty and reliability Germans have a well-deserved reputation for being fairly honest and reliable you get what you pay for this is one of the major pros of living here not only do people usually keep their word but they don't beat around the bush either when discussing something important or giving feedback that means that no matter who it comes from even your boss at work you can rest assured that what is said will not be sugarcoated it'll be straightforward and to the point cons one bureaucracy Germans think of beer gardens and sausages not paperwork unfortunately bureaucracy is an unavoidable aspect of life here from registering at the alander beura Foreigner's office to getting health insurance or a bank account expect a sea of forms remember to gather Department stamps and signatures along the Route navigating this bureaucratic maze can feel like every institution has its own rules making it harder for an outsider two difficulty in making friends one of the major cons is making friends yes it can be quite difficult to make friends in this culturally diverse country if you don't speak the same language or understand its Customs it is one of the major negative sides of living in Germany but don't be alarmed Germans do actually have their own way of connecting with others through beer gardens now before you go thinking that all German socializing centers around drinking beer let me clarify there are other activities too like playing cards and board games or just chatting away over dinner you may even find yourself jumping on trampolines at an outdoor party with your new found Buddies three bad customer service when living in Germany you're likely to come across some seriously bad customer service it can range from basic rudess all the way up to downright hostile behavior from staff at various establishments and companies here you might be wondering why this is well the Germans have their own unique culture when it comes to customer relations that doesn't always align with our expectations as customers outside Germany let me give you an example let's say you are out shopping and spot something that catches your eye so naturally you approach a shop assistant for help only to get hit with a very brusk response or even worse they just ignore you altogether this often happens because they expect customers to shop independently rather than actively seeking out assistance this is one of the most ignored negative sides of living in Germany four bad internet connection it's no surprised that moving to Germany has its advantages from their amazing culture and delicious food to the gorgeous view news but one thing that many people Overlook is how bad the internet connection can be here that's right folks you heard it here first living in Germany comes with a terrible internet connection it is one of the most annoying negative sides of living in Germany sure some areas of the country have better connections than others but on average Germans are stuck with slow speeds and high prices when it comes to their internet service providers or isps from dropped connections to painfully slow loading times let us tell you it's enough to make any techsavvy person throw their computer out the window five no air conditioning not everything is perfect here especially when it comes to air conditioning while other countries are cranking down their temperatures with powerful AC units Germany has been left a bit behind on this front which can make summer days quite uncomfortable no matter how hot it gets outside Germans just seem content with keeping their windows open and relying on fans or luck to stay cool indoors this means that if you're ever visiting or living in Germany during the summer months then you prepare yourself for some sweat filled days ahead luckily though there's usually a nice breeze coming through those open Windows sort of like Nature's Own built-in air conditioner six tough language if you thought learning a foreign language was hard think again if you've ever wanted to test your linguistic metal look no further than Germany from casual conversation to mastering the finer points of grammar and verb conjugation learning German can be quite the challenge this might be one of those negative sides of living in Germany that you can overcome as you live there and learn the language sure moving to Germany has its perks but one big con is that speaking the native tongue can sometimes feel like a Herculean task the sheer amount of vocabulary and complex sentence structure especially compared to English can make some expats feel intimidated or overwhelmed especially if they're starting from scratch or brushing up on their skills after years away from the classroom we have tried our best to discuss all the pros and cons of living in Germany in this video living in this diverse and Lively country offers great job prospects great infrastructure and a great quality of life however like any move to a new home in a new country there are downsides such as slow internet bureaucracy and missing your favorite comfort Foods before moving to Germany weigh all these perks and downsides thank you for watching this video please don't forget to comment subscribe and turn on the notification Bell\", 'video_id': '2u4ItZerRac'}]], 'distances': [[1.5926493406295776]], 'included': [<IncludeEnum.distances: 'distances'>, <IncludeEnum.documents: 'documents'>, <IncludeEnum.metadatas: 'metadatas'>]}\n",
      "Answer: The main topic of the video is the pros and cons of living in Germany, discussing various advantages and disadvantages that individuals may experience when considering a move to the country.\n"
     ]
    }
   ],
   "source": [
    "from dotenv import load_dotenv\n",
    "import os\n",
    "\n",
    "# Load environment variables from .env file\n",
    "load_dotenv()\n",
    "\n",
    "# Get the OpenAI API key from the environment variable\n",
    "openai_api_key = os.getenv(\"OPENAI_API_KEY\")\n",
    "\n",
    "# Set the OpenAI API key as an environment variable\n",
    "os.environ[\"OPENAI_API_KEY\"] = openai_api_key\n",
    "\n",
    "\n",
    "# Now you can use the OpenAI API key in your script\n",
    "from youtube_transcript_api import YouTubeTranscriptApi\n",
    "import chromadb\n",
    "from sentence_transformers import SentenceTransformer\n",
    "from langchain.chains import LLMChain\n",
    "from langchain.chat_models import ChatOpenAI\n",
    "from langchain.prompts import PromptTemplate\n",
    "import openai\n",
    "\n",
    "# Define the LangChain Prompt Template for QA\n",
    "QA_TEMPLATE = \"\"\"\n",
    "Use the following context from a YouTube video transcript to answer the question:\n",
    "\n",
    "Context: {context}\n",
    "\n",
    "Question: {question}\n",
    "\n",
    "Answer:\n",
    "\"\"\"\n",
    "qa_prompt = PromptTemplate(input_variables=[\"context\", \"question\"], template=QA_TEMPLATE)\n",
    "\n",
    "# Initialize the LLM (using GPT-4 mini model)\n",
    "llm = ChatOpenAI(model=\"gpt-4o-mini\", temperature=0)\n",
    "\n",
    "# Initialize ChromaDB\n",
    "chroma_client = chromadb.Client()\n",
    "\n",
    "# Create a collection in ChromaDB, if it doesn't already exist\n",
    "collection = chroma_client.create_collection(\"youtube_video_transcripts2\", get_or_create=True)\n",
    "\n",
    "# Initialize the SentenceTransformer model for embedding text\n",
    "sentence_model = SentenceTransformer('all-mpnet-base-v2')\n",
    "\n",
    "def embed_text(text):\n",
    "    \"\"\"\n",
    "    Convert text into embeddings using SentenceTransformer.\n",
    "    \"\"\"\n",
    "    return sentence_model.encode([text])[0]\n",
    "\n",
    "def upsert_to_chromadb(video_id, transcript_text):\n",
    "    \"\"\"\n",
    "    Store video transcript embeddings in ChromaDB.\n",
    "    \"\"\"\n",
    "    embedding = embed_text(transcript_text)\n",
    "    collection.upsert(\n",
    "        ids=[video_id],\n",
    "        embeddings=[embedding],\n",
    "        metadatas=[{\"video_id\": video_id, \"transcript\": transcript_text}]\n",
    "    )\n",
    "\n",
    "def get_video_transcript(video_id):\n",
    "    \"\"\"\n",
    "    Fetch transcript for a given YouTube video ID.\n",
    "    \"\"\"\n",
    "    try:\n",
    "        transcript = YouTubeTranscriptApi.get_transcript(video_id)\n",
    "        transcript_text = \" \".join([item['text'] for item in transcript if 'text' in item])\n",
    "        return transcript_text\n",
    "    except Exception as e:\n",
    "        print(f\"Error retrieving transcript for video {video_id}: {e}\")\n",
    "        return None\n",
    "\n",
    "def answer_question(question, video_id):\n",
    "    \"\"\"\n",
    "    Answer a question based on the transcript of the selected video.\n",
    "    \"\"\"\n",
    "    # Retrieve relevant video context using similarity search from ChromaDB\n",
    "    question_embedding = embed_text(question)\n",
    "    results = collection.query(\n",
    "        query_embeddings=[question_embedding],\n",
    "        n_results=1\n",
    "    )\n",
    "\n",
    "    # Print the results to understand its structure\n",
    "    print(\"Results:\", results)\n",
    "\n",
    "    # Get the transcript text from the results\n",
    "    context_text = results['metadatas'][0][0]['transcript']\n",
    "\n",
    "    # Create a QA chain with the OpenAI model and the context\n",
    "    qa_chain = LLMChain(llm=llm, prompt=qa_prompt)\n",
    "    answer = qa_chain.run(context=context_text, question=question)\n",
    "\n",
    "    return answer\n",
    "\n",
    "# Example usage with a list of video IDs\n",
    "video_ids = ['2u4ItZerRac', 'I2zF1I60hPg', '8xqSF-uHCUs', 'LtmS-c1pChY']\n",
    "transcripts = {}\n",
    "\n",
    "# Fetch and store the transcript for each video\n",
    "for video_id in video_ids:\n",
    "    transcript = get_video_transcript(video_id)\n",
    "    if transcript:\n",
    "        transcripts[video_id] = transcript\n",
    "        upsert_to_chromadb(video_id, transcript)\n",
    "        print(f\"Stored embedding for {video_id}\")\n",
    "    else:\n",
    "        print(f\"No transcript available for video {video_id}\")\n",
    "\n",
    "# Example query\n",
    "question = \"What is the main topic of the video?\"\n",
    "video_id = \"2u4ItZerRac\"\n",
    "answer = answer_question(question, video_id)\n",
    "print(\"Answer:\", answer)"
   ]
  },
  {
   "cell_type": "code",
   "execution_count": null,
   "metadata": {},
   "outputs": [],
   "source": [
    "import whisper\n",
    "\n",
    "# Initialize the Whisper model\n",
    "whisper_model = whisper.load_model(\"base\")\n",
    "\n",
    "def transcribe_audio(audio_path):\n",
    "    \"\"\"\n",
    "    Transcribe audio input into text using Whisper.\n",
    "    \"\"\"\n",
    "    result = whisper_model.transcribe(audio_path)\n",
    "    return result['text']\n",
    "\n",
    "# Example usage with a local audio file\n",
    "audio_path = 'path_to_audio_file.wav'\n",
    "transcribed_text = transcribe_audio(audio_path)\n",
    "print(f\"Transcribed Text: {transcribed_text}\")"
   ]
  },
  {
   "cell_type": "code",
   "execution_count": 16,
   "metadata": {},
   "outputs": [
    {
     "name": "stdout",
     "output_type": "stream",
     "text": [
      "* Running on local URL:  http://127.0.0.1:7860\n",
      "* Running on public URL: https://f1315bbc6e4f9a38b7.gradio.live\n",
      "\n",
      "This share link expires in 72 hours. For free permanent hosting and GPU upgrades, run `gradio deploy` from the terminal in the working directory to deploy to Hugging Face Spaces (https://huggingface.co/spaces)\n"
     ]
    },
    {
     "data": {
      "text/html": [
       "<div><iframe src=\"https://f1315bbc6e4f9a38b7.gradio.live\" width=\"100%\" height=\"500\" allow=\"autoplay; camera; microphone; clipboard-read; clipboard-write;\" frameborder=\"0\" allowfullscreen></iframe></div>"
      ],
      "text/plain": [
       "<IPython.core.display.HTML object>"
      ]
     },
     "metadata": {},
     "output_type": "display_data"
    },
    {
     "data": {
      "text/plain": []
     },
     "execution_count": 16,
     "metadata": {},
     "output_type": "execute_result"
    }
   ],
   "source": [
    "import gradio as gr\n",
    "\n",
    "def chatbot_interface(question, video_title, audio_file=None):\n",
    "    \"\"\"\n",
    "    Handle user queries and answer questions based on selected video.\n",
    "    \"\"\"\n",
    "    video_choices = {\n",
    "        'Video 1': '2u4ItZerRac',\n",
    "        'Video 2': 'I2zF1I60hPg',\n",
    "        'Video 3': '8xqSF-uHCUs',\n",
    "        'Video 4': 'LtmS-c1pChY'\n",
    "    }\n",
    "\n",
    "    video_id = video_choices.get(video_title)\n",
    "\n",
    "    if audio_file:\n",
    "        # Transcribe audio if provided\n",
    "        question = transcribe_audio(audio_file)\n",
    "\n",
    "    if video_id:\n",
    "        return answer_question(question, video_id)\n",
    "    else:\n",
    "        return \"Please select a valid video.\"\n",
    "\n",
    "# Create Gradio interface\n",
    "iface = gr.Interface(\n",
    "    fn=chatbot_interface,\n",
    "    inputs=[\n",
    "        gr.Textbox(label=\"Enter your question\"),\n",
    "        gr.Dropdown(label=\"Select Video\", choices=['Video 1', 'Video 2', 'Video 3', 'Video 4'])\n",
    "        #gr.Audio(label=\"Upload Audio (optional)\", type=\"file\", optional=True)\n",
    "    ],\n",
    "    outputs=\"text\"\n",
    ")\n",
    "\n",
    "# Launch the Gradio app\n",
    "iface.launch(share=True)"
   ]
  },
  {
   "cell_type": "code",
   "execution_count": 17,
   "metadata": {},
   "outputs": [
    {
     "name": "stdout",
     "output_type": "stream",
     "text": [
      "Results: {'ids': [['2u4ItZerRac']], 'embeddings': None, 'documents': [[None]], 'uris': None, 'data': None, 'metadatas': [[{'transcript': \"[Music] the pros and cons of living in Germany today we're going to talk about the pros and cons of living in Germany Germany is an amazing country with a strong economy lots of culture great infrastructure and friendly people but that doesn't mean it's the right place for everyone in this video we'll look at all aspects of life in Germany so you can decide if it's the right move for you so let's get started Pros living in Germany is a great experience it offers many advantages both long and shortterm that make it an attractive destination for those considering making the move here are some of the pros of living in Germany one free education for more than 25 years Germany has offered tuition-free higher education at public universities with no charge for most courses and little no cost for administrative fees this means that students coming from all over the world can pursue their degree programs without worrying about expensive tuition costs moreover those studying in certain Fields even have access to Grants and scholarships which cover living expenses as well in addition to this incredible benefit German universities also provide high quality instruction from some of the finest academic Minds in Europe with famous institutions such as humbold University Berlin leading the way in research and Innovation you are sure to receive an excellent standard of learning whether you're taking up a course on engineering or literature two drinkable tap water living in Germany certainly comes with a lot of perks from the delicious sausages to the breathtaking cities but one perk that doesn't often get mentioned is how drinkable tap water in Germany is it's true and it's really quite remarkable of course not all German towns have perfect tap water but by far most do in fact many Germans believe their drinking water is so good because it's monitored more stringently than other countries and for sure there are no worries about added chemicals or nasty tastes what could be better three unemployment benefits if find themselves out of work due to whatever reason don't fret your well-being is taken care of thanks to the German government's generous Provisions for unemployment insurance unemployment insurance offers more than just monthly benefits to help you find job for instance recipients can utilize up to 50% of their benefit to continue their education or training at an accredited Institute making them more marketable for future work this feature makes Germany's system truly unique amongst its counterparts across Europe four Germans are very punctual ah the Germans and their punctuality it's one of the foundations of life in Germany it doesn't matter if you're running late to a meeting eating dinner with friends or just taking the bus if you live in Germany and don't arrive on time be prepared to get some judging looks for those unfamiliar with German culture schedules and arrival times can seem like an implicit expectation people may start mentally counting down 5 minutes before your planned arrival time but being fashionably late is not accepted here the pros of living around punctual people first off no more waiting for late friends you'll see someone at 6:00 p.m. if they claim they'll be there the 5 minute delay phone calls are over five very livable if you're looking for a fantastic country to live Germany should be your first choice Germany has exceptional quality of life and some of the world's most beautiful cities and towns to begin life in Germany is safe Germany's low crime rate is due to its tight regulations and extensive security measures Germany's cultural offerings and safety make it livable from concerts and festivals like October Fest to wonderful galleries like alter naal Gallery Berlin you can explore fantastic new experiences and learn about European art and culture six efficient public transport Germany has very efficient public transport systems that's right no more worrying about finding a parking spot no more car payments and insurance costs instead you get to hop on a bus or train and take advantage of free Wi-Fi while you travel what's even better is that most cities offer discounts for students or those with limited incomes so everyone has access to Affordable transport options plus when it comes to safety there are cameras on all trains and buses throughout the country making sure that your journey is secure seven Germans are fairly honest and reliable living in Germany can be an absolute dream come true especially if you value honesty and reliability Germans have a well-deserved reputation for being fairly honest and reliable you get what you pay for this is one of the major pros of living here not only do people usually keep their word but they don't beat around the bush either when discussing something important or giving feedback that means that no matter who it comes from even your boss at work you can rest assured that what is said will not be sugarcoated it'll be straightforward and to the point cons one bureaucracy Germans think of beer gardens and sausages not paperwork unfortunately bureaucracy is an unavoidable aspect of life here from registering at the alander beura Foreigner's office to getting health insurance or a bank account expect a sea of forms remember to gather Department stamps and signatures along the Route navigating this bureaucratic maze can feel like every institution has its own rules making it harder for an outsider two difficulty in making friends one of the major cons is making friends yes it can be quite difficult to make friends in this culturally diverse country if you don't speak the same language or understand its Customs it is one of the major negative sides of living in Germany but don't be alarmed Germans do actually have their own way of connecting with others through beer gardens now before you go thinking that all German socializing centers around drinking beer let me clarify there are other activities too like playing cards and board games or just chatting away over dinner you may even find yourself jumping on trampolines at an outdoor party with your new found Buddies three bad customer service when living in Germany you're likely to come across some seriously bad customer service it can range from basic rudess all the way up to downright hostile behavior from staff at various establishments and companies here you might be wondering why this is well the Germans have their own unique culture when it comes to customer relations that doesn't always align with our expectations as customers outside Germany let me give you an example let's say you are out shopping and spot something that catches your eye so naturally you approach a shop assistant for help only to get hit with a very brusk response or even worse they just ignore you altogether this often happens because they expect customers to shop independently rather than actively seeking out assistance this is one of the most ignored negative sides of living in Germany four bad internet connection it's no surprised that moving to Germany has its advantages from their amazing culture and delicious food to the gorgeous view news but one thing that many people Overlook is how bad the internet connection can be here that's right folks you heard it here first living in Germany comes with a terrible internet connection it is one of the most annoying negative sides of living in Germany sure some areas of the country have better connections than others but on average Germans are stuck with slow speeds and high prices when it comes to their internet service providers or isps from dropped connections to painfully slow loading times let us tell you it's enough to make any techsavvy person throw their computer out the window five no air conditioning not everything is perfect here especially when it comes to air conditioning while other countries are cranking down their temperatures with powerful AC units Germany has been left a bit behind on this front which can make summer days quite uncomfortable no matter how hot it gets outside Germans just seem content with keeping their windows open and relying on fans or luck to stay cool indoors this means that if you're ever visiting or living in Germany during the summer months then you prepare yourself for some sweat filled days ahead luckily though there's usually a nice breeze coming through those open Windows sort of like Nature's Own built-in air conditioner six tough language if you thought learning a foreign language was hard think again if you've ever wanted to test your linguistic metal look no further than Germany from casual conversation to mastering the finer points of grammar and verb conjugation learning German can be quite the challenge this might be one of those negative sides of living in Germany that you can overcome as you live there and learn the language sure moving to Germany has its perks but one big con is that speaking the native tongue can sometimes feel like a Herculean task the sheer amount of vocabulary and complex sentence structure especially compared to English can make some expats feel intimidated or overwhelmed especially if they're starting from scratch or brushing up on their skills after years away from the classroom we have tried our best to discuss all the pros and cons of living in Germany in this video living in this diverse and Lively country offers great job prospects great infrastructure and a great quality of life however like any move to a new home in a new country there are downsides such as slow internet bureaucracy and missing your favorite comfort Foods before moving to Germany weigh all these perks and downsides thank you for watching this video please don't forget to comment subscribe and turn on the notification Bell\", 'video_id': '2u4ItZerRac'}]], 'distances': [[0.6507151126861572]], 'included': [<IncludeEnum.distances: 'distances'>, <IncludeEnum.documents: 'documents'>, <IncludeEnum.metadatas: 'metadatas'>]}\n",
      "Question: What are the benefits of immigration to Germany?\n",
      "Expected: Immigration brings cultural diversity, fills labor shortages, and contributes to economic growth.\n",
      "Received: The benefits of immigration to Germany include:\n",
      "\n",
      "1. **Free Education**: Germany offers tuition-free higher education at public universities, allowing students from around the world to pursue their degrees without the burden of expensive tuition costs. There are also grants and scholarships available for certain fields that can cover living expenses.\n",
      "\n",
      "2. **Drinkable Tap Water**: Most German towns have high-quality, drinkable tap water that is monitored stringently, providing a safe and pleasant drinking experience.\n",
      "\n",
      "3. **Unemployment Benefits**: The German government provides generous unemployment insurance, which not only offers financial support but also allows recipients to use a portion of their benefits for further education or training.\n",
      "\n",
      "4. **Punctuality**: Germans are known for their punctuality, which can lead to a more organized and efficient lifestyle, reducing the frustration of waiting for others.\n",
      "\n",
      "5. **High Quality of Life**: Germany boasts exceptional living standards, low crime rates, and a rich cultural scene, making it a safe and enjoyable place to live.\n",
      "\n",
      "6. **Efficient Public Transport**: The country has a well-developed public transport system, making it easy to travel without the need for a car, along with discounts for students and those with limited incomes.\n",
      "\n",
      "7. **Honesty and Reliability**: Germans are generally known for their honesty and reliability, which can foster trust in personal and professional relationships.\n",
      "\n",
      "Overall, these benefits make Germany an attractive destination for immigrants seeking a better quality of life, educational opportunities, and a supportive social system.\n",
      "\n",
      "Results: {'ids': [['LtmS-c1pChY']], 'embeddings': None, 'documents': [[None]], 'uris': None, 'data': None, 'metadatas': [[{'transcript': \"the alternative for Germany afd party has unveiled a radical new approach to immigration policy signaling a potential shift in the nation's migration landscape Party leaders have proposed stringent measures that could dramatically reshape Germany's approach to foreign Nationals and border control afd leadership has outlined a comprehensive strategy targeting what they describe as excessive immigration the proposed plan includes significant restrictions on Asylum Seekers family reunification and immigration Pathways for non-eu Citizens according to party spokesperson Alice vdal Germany must prioritize its national interests and protect its cultural identity highlighting the party's increasingly Hardline stance on migration issues her statement reflects a growing sentiment among conservative political circles in Germany the proposed policy would dramatically reduce current immigration quotas potentially cutting annual migration numbers by up to 40% this approach represents a stark departure from Germany's previous more open immigration policies economic implications could be substantial with potential impacts on labor markets and Workforce demographics sectors like construction Agriculture and Healthcare which have traditionally relied on International workers might face significant challenges under these proposed restrictions key proposals include implementing stricter border controls reducing social benefits for non-citizens and creating more challenging Pathways for Asylum applications the plan suggests a comprehensive overhaul of Germany's existing immigration framework The afd's Proposal comes amidst Rising tensions around immigration in Europe similar conservative movements in other European countries have been pushing for more restrictive migration policies reflecting a broader Regional Trend legal experts caution that some proposed measures might conflict with existing European Union regulations and international human rights agreements the potential legal challenges could significantly complicate implementation of the proposed policy statistical data suggests that immigration remains a contentious issue in Germany recent surveys indicate approximately 55% of Germans support more controlled immigration policies while 45% favor more open approaches party leadership argues that the proposed policy will enhance National Security and economic stability they claim current immigration systems burden public resources and potentially compromise social integration critics however argue that such restrictive policies could harm Germany's economic growth and demographic sustainability labor market experts warn that reducing immigration might create significant Workforce shortages in critical sectors the proposed policy addresses multiple dimensions of immigration including Asylum Seekers skilled workers and family reunification it represents a comprehensive approach to migration management that goes beyond traditional policy Frameworks international human rights organizations have already expressed concern about potential discriminatory elements within the proposed policy they argue that such restrictive measures might violate fundamental human rights principles The afd's Proposal is likely to spark intense political debate in the coming months parliamentary discussions and potential legal challenges are expected to thoroughly examine the proposed immigration restrictions as Germany continues to navigate complex migration challenges The afd's Proposal represents a significant potential turning point in the nation's approach to immigration policy the ongoing dialogue reflects broader European discussions about national identity security and cultural integration\", 'video_id': 'LtmS-c1pChY'}]], 'distances': [[0.7625580430030823]], 'included': [<IncludeEnum.distances: 'distances'>, <IncludeEnum.documents: 'documents'>, <IncludeEnum.metadatas: 'metadatas'>]}\n",
      "Question: What are the challenges faced by immigrants in Germany?\n",
      "Expected: Immigrants may face language barriers, integration difficulties, and potential discrimination.\n",
      "Received: Immigrants in Germany face several challenges, particularly in light of the proposed immigration policy by the Alternative for Germany (AfD) party. Key challenges include:\n",
      "\n",
      "1. **Stricter Immigration Policies**: The proposed measures suggest significant restrictions on asylum seekers, family reunification, and immigration pathways for non-EU citizens, making it more difficult for immigrants to enter and settle in Germany.\n",
      "\n",
      "2. **Reduced Quotas**: The AfD's plan could potentially cut annual migration numbers by up to 40%, limiting opportunities for new immigrants to come to Germany.\n",
      "\n",
      "3. **Challenging Asylum Processes**: The proposal includes creating more challenging pathways for asylum applications, which could lead to longer processing times and increased difficulty in obtaining asylum status.\n",
      "\n",
      "4. **Stricter Border Controls**: Enhanced border controls may lead to increased scrutiny and barriers for immigrants attempting to enter the country.\n",
      "\n",
      "5. **Reduced Social Benefits**: The plan suggests reducing social benefits for non-citizens, which could impact the financial stability and integration of immigrants.\n",
      "\n",
      "6. **Legal and Human Rights Concerns**: Proposed measures may conflict with existing European Union regulations and international human rights agreements, leading to potential legal challenges that could complicate the immigration process.\n",
      "\n",
      "7. **Economic Implications**: The reduction in immigration could lead to workforce shortages in critical sectors such as construction, agriculture, and healthcare, which traditionally rely on international workers, potentially affecting job opportunities for immigrants.\n",
      "\n",
      "8. **Social Integration Issues**: Critics argue that restrictive policies could hinder social integration and create a more challenging environment for immigrants to adapt and contribute to society.\n",
      "\n",
      "Overall, the proposed policy changes signal a shift towards a more hardline stance on immigration, which could create significant obstacles for immigrants in Germany.\n",
      "\n",
      "Model accuracy: 0.0%\n"
     ]
    },
    {
     "name": "stdout",
     "output_type": "stream",
     "text": [
      "Results: {'ids': [['2u4ItZerRac']], 'embeddings': None, 'documents': [[None]], 'uris': None, 'data': None, 'metadatas': [[{'transcript': \"[Music] the pros and cons of living in Germany today we're going to talk about the pros and cons of living in Germany Germany is an amazing country with a strong economy lots of culture great infrastructure and friendly people but that doesn't mean it's the right place for everyone in this video we'll look at all aspects of life in Germany so you can decide if it's the right move for you so let's get started Pros living in Germany is a great experience it offers many advantages both long and shortterm that make it an attractive destination for those considering making the move here are some of the pros of living in Germany one free education for more than 25 years Germany has offered tuition-free higher education at public universities with no charge for most courses and little no cost for administrative fees this means that students coming from all over the world can pursue their degree programs without worrying about expensive tuition costs moreover those studying in certain Fields even have access to Grants and scholarships which cover living expenses as well in addition to this incredible benefit German universities also provide high quality instruction from some of the finest academic Minds in Europe with famous institutions such as humbold University Berlin leading the way in research and Innovation you are sure to receive an excellent standard of learning whether you're taking up a course on engineering or literature two drinkable tap water living in Germany certainly comes with a lot of perks from the delicious sausages to the breathtaking cities but one perk that doesn't often get mentioned is how drinkable tap water in Germany is it's true and it's really quite remarkable of course not all German towns have perfect tap water but by far most do in fact many Germans believe their drinking water is so good because it's monitored more stringently than other countries and for sure there are no worries about added chemicals or nasty tastes what could be better three unemployment benefits if find themselves out of work due to whatever reason don't fret your well-being is taken care of thanks to the German government's generous Provisions for unemployment insurance unemployment insurance offers more than just monthly benefits to help you find job for instance recipients can utilize up to 50% of their benefit to continue their education or training at an accredited Institute making them more marketable for future work this feature makes Germany's system truly unique amongst its counterparts across Europe four Germans are very punctual ah the Germans and their punctuality it's one of the foundations of life in Germany it doesn't matter if you're running late to a meeting eating dinner with friends or just taking the bus if you live in Germany and don't arrive on time be prepared to get some judging looks for those unfamiliar with German culture schedules and arrival times can seem like an implicit expectation people may start mentally counting down 5 minutes before your planned arrival time but being fashionably late is not accepted here the pros of living around punctual people first off no more waiting for late friends you'll see someone at 6:00 p.m. if they claim they'll be there the 5 minute delay phone calls are over five very livable if you're looking for a fantastic country to live Germany should be your first choice Germany has exceptional quality of life and some of the world's most beautiful cities and towns to begin life in Germany is safe Germany's low crime rate is due to its tight regulations and extensive security measures Germany's cultural offerings and safety make it livable from concerts and festivals like October Fest to wonderful galleries like alter naal Gallery Berlin you can explore fantastic new experiences and learn about European art and culture six efficient public transport Germany has very efficient public transport systems that's right no more worrying about finding a parking spot no more car payments and insurance costs instead you get to hop on a bus or train and take advantage of free Wi-Fi while you travel what's even better is that most cities offer discounts for students or those with limited incomes so everyone has access to Affordable transport options plus when it comes to safety there are cameras on all trains and buses throughout the country making sure that your journey is secure seven Germans are fairly honest and reliable living in Germany can be an absolute dream come true especially if you value honesty and reliability Germans have a well-deserved reputation for being fairly honest and reliable you get what you pay for this is one of the major pros of living here not only do people usually keep their word but they don't beat around the bush either when discussing something important or giving feedback that means that no matter who it comes from even your boss at work you can rest assured that what is said will not be sugarcoated it'll be straightforward and to the point cons one bureaucracy Germans think of beer gardens and sausages not paperwork unfortunately bureaucracy is an unavoidable aspect of life here from registering at the alander beura Foreigner's office to getting health insurance or a bank account expect a sea of forms remember to gather Department stamps and signatures along the Route navigating this bureaucratic maze can feel like every institution has its own rules making it harder for an outsider two difficulty in making friends one of the major cons is making friends yes it can be quite difficult to make friends in this culturally diverse country if you don't speak the same language or understand its Customs it is one of the major negative sides of living in Germany but don't be alarmed Germans do actually have their own way of connecting with others through beer gardens now before you go thinking that all German socializing centers around drinking beer let me clarify there are other activities too like playing cards and board games or just chatting away over dinner you may even find yourself jumping on trampolines at an outdoor party with your new found Buddies three bad customer service when living in Germany you're likely to come across some seriously bad customer service it can range from basic rudess all the way up to downright hostile behavior from staff at various establishments and companies here you might be wondering why this is well the Germans have their own unique culture when it comes to customer relations that doesn't always align with our expectations as customers outside Germany let me give you an example let's say you are out shopping and spot something that catches your eye so naturally you approach a shop assistant for help only to get hit with a very brusk response or even worse they just ignore you altogether this often happens because they expect customers to shop independently rather than actively seeking out assistance this is one of the most ignored negative sides of living in Germany four bad internet connection it's no surprised that moving to Germany has its advantages from their amazing culture and delicious food to the gorgeous view news but one thing that many people Overlook is how bad the internet connection can be here that's right folks you heard it here first living in Germany comes with a terrible internet connection it is one of the most annoying negative sides of living in Germany sure some areas of the country have better connections than others but on average Germans are stuck with slow speeds and high prices when it comes to their internet service providers or isps from dropped connections to painfully slow loading times let us tell you it's enough to make any techsavvy person throw their computer out the window five no air conditioning not everything is perfect here especially when it comes to air conditioning while other countries are cranking down their temperatures with powerful AC units Germany has been left a bit behind on this front which can make summer days quite uncomfortable no matter how hot it gets outside Germans just seem content with keeping their windows open and relying on fans or luck to stay cool indoors this means that if you're ever visiting or living in Germany during the summer months then you prepare yourself for some sweat filled days ahead luckily though there's usually a nice breeze coming through those open Windows sort of like Nature's Own built-in air conditioner six tough language if you thought learning a foreign language was hard think again if you've ever wanted to test your linguistic metal look no further than Germany from casual conversation to mastering the finer points of grammar and verb conjugation learning German can be quite the challenge this might be one of those negative sides of living in Germany that you can overcome as you live there and learn the language sure moving to Germany has its perks but one big con is that speaking the native tongue can sometimes feel like a Herculean task the sheer amount of vocabulary and complex sentence structure especially compared to English can make some expats feel intimidated or overwhelmed especially if they're starting from scratch or brushing up on their skills after years away from the classroom we have tried our best to discuss all the pros and cons of living in Germany in this video living in this diverse and Lively country offers great job prospects great infrastructure and a great quality of life however like any move to a new home in a new country there are downsides such as slow internet bureaucracy and missing your favorite comfort Foods before moving to Germany weigh all these perks and downsides thank you for watching this video please don't forget to comment subscribe and turn on the notification Bell\", 'video_id': '2u4ItZerRac'}]], 'distances': [[0.4641495645046234]], 'included': [<IncludeEnum.distances: 'distances'>, <IncludeEnum.documents: 'documents'>, <IncludeEnum.metadatas: 'metadatas'>]}\n",
      "Results: {'ids': [['2u4ItZerRac']], 'embeddings': None, 'documents': [[None]], 'uris': None, 'data': None, 'metadatas': [[{'transcript': \"[Music] the pros and cons of living in Germany today we're going to talk about the pros and cons of living in Germany Germany is an amazing country with a strong economy lots of culture great infrastructure and friendly people but that doesn't mean it's the right place for everyone in this video we'll look at all aspects of life in Germany so you can decide if it's the right move for you so let's get started Pros living in Germany is a great experience it offers many advantages both long and shortterm that make it an attractive destination for those considering making the move here are some of the pros of living in Germany one free education for more than 25 years Germany has offered tuition-free higher education at public universities with no charge for most courses and little no cost for administrative fees this means that students coming from all over the world can pursue their degree programs without worrying about expensive tuition costs moreover those studying in certain Fields even have access to Grants and scholarships which cover living expenses as well in addition to this incredible benefit German universities also provide high quality instruction from some of the finest academic Minds in Europe with famous institutions such as humbold University Berlin leading the way in research and Innovation you are sure to receive an excellent standard of learning whether you're taking up a course on engineering or literature two drinkable tap water living in Germany certainly comes with a lot of perks from the delicious sausages to the breathtaking cities but one perk that doesn't often get mentioned is how drinkable tap water in Germany is it's true and it's really quite remarkable of course not all German towns have perfect tap water but by far most do in fact many Germans believe their drinking water is so good because it's monitored more stringently than other countries and for sure there are no worries about added chemicals or nasty tastes what could be better three unemployment benefits if find themselves out of work due to whatever reason don't fret your well-being is taken care of thanks to the German government's generous Provisions for unemployment insurance unemployment insurance offers more than just monthly benefits to help you find job for instance recipients can utilize up to 50% of their benefit to continue their education or training at an accredited Institute making them more marketable for future work this feature makes Germany's system truly unique amongst its counterparts across Europe four Germans are very punctual ah the Germans and their punctuality it's one of the foundations of life in Germany it doesn't matter if you're running late to a meeting eating dinner with friends or just taking the bus if you live in Germany and don't arrive on time be prepared to get some judging looks for those unfamiliar with German culture schedules and arrival times can seem like an implicit expectation people may start mentally counting down 5 minutes before your planned arrival time but being fashionably late is not accepted here the pros of living around punctual people first off no more waiting for late friends you'll see someone at 6:00 p.m. if they claim they'll be there the 5 minute delay phone calls are over five very livable if you're looking for a fantastic country to live Germany should be your first choice Germany has exceptional quality of life and some of the world's most beautiful cities and towns to begin life in Germany is safe Germany's low crime rate is due to its tight regulations and extensive security measures Germany's cultural offerings and safety make it livable from concerts and festivals like October Fest to wonderful galleries like alter naal Gallery Berlin you can explore fantastic new experiences and learn about European art and culture six efficient public transport Germany has very efficient public transport systems that's right no more worrying about finding a parking spot no more car payments and insurance costs instead you get to hop on a bus or train and take advantage of free Wi-Fi while you travel what's even better is that most cities offer discounts for students or those with limited incomes so everyone has access to Affordable transport options plus when it comes to safety there are cameras on all trains and buses throughout the country making sure that your journey is secure seven Germans are fairly honest and reliable living in Germany can be an absolute dream come true especially if you value honesty and reliability Germans have a well-deserved reputation for being fairly honest and reliable you get what you pay for this is one of the major pros of living here not only do people usually keep their word but they don't beat around the bush either when discussing something important or giving feedback that means that no matter who it comes from even your boss at work you can rest assured that what is said will not be sugarcoated it'll be straightforward and to the point cons one bureaucracy Germans think of beer gardens and sausages not paperwork unfortunately bureaucracy is an unavoidable aspect of life here from registering at the alander beura Foreigner's office to getting health insurance or a bank account expect a sea of forms remember to gather Department stamps and signatures along the Route navigating this bureaucratic maze can feel like every institution has its own rules making it harder for an outsider two difficulty in making friends one of the major cons is making friends yes it can be quite difficult to make friends in this culturally diverse country if you don't speak the same language or understand its Customs it is one of the major negative sides of living in Germany but don't be alarmed Germans do actually have their own way of connecting with others through beer gardens now before you go thinking that all German socializing centers around drinking beer let me clarify there are other activities too like playing cards and board games or just chatting away over dinner you may even find yourself jumping on trampolines at an outdoor party with your new found Buddies three bad customer service when living in Germany you're likely to come across some seriously bad customer service it can range from basic rudess all the way up to downright hostile behavior from staff at various establishments and companies here you might be wondering why this is well the Germans have their own unique culture when it comes to customer relations that doesn't always align with our expectations as customers outside Germany let me give you an example let's say you are out shopping and spot something that catches your eye so naturally you approach a shop assistant for help only to get hit with a very brusk response or even worse they just ignore you altogether this often happens because they expect customers to shop independently rather than actively seeking out assistance this is one of the most ignored negative sides of living in Germany four bad internet connection it's no surprised that moving to Germany has its advantages from their amazing culture and delicious food to the gorgeous view news but one thing that many people Overlook is how bad the internet connection can be here that's right folks you heard it here first living in Germany comes with a terrible internet connection it is one of the most annoying negative sides of living in Germany sure some areas of the country have better connections than others but on average Germans are stuck with slow speeds and high prices when it comes to their internet service providers or isps from dropped connections to painfully slow loading times let us tell you it's enough to make any techsavvy person throw their computer out the window five no air conditioning not everything is perfect here especially when it comes to air conditioning while other countries are cranking down their temperatures with powerful AC units Germany has been left a bit behind on this front which can make summer days quite uncomfortable no matter how hot it gets outside Germans just seem content with keeping their windows open and relying on fans or luck to stay cool indoors this means that if you're ever visiting or living in Germany during the summer months then you prepare yourself for some sweat filled days ahead luckily though there's usually a nice breeze coming through those open Windows sort of like Nature's Own built-in air conditioner six tough language if you thought learning a foreign language was hard think again if you've ever wanted to test your linguistic metal look no further than Germany from casual conversation to mastering the finer points of grammar and verb conjugation learning German can be quite the challenge this might be one of those negative sides of living in Germany that you can overcome as you live there and learn the language sure moving to Germany has its perks but one big con is that speaking the native tongue can sometimes feel like a Herculean task the sheer amount of vocabulary and complex sentence structure especially compared to English can make some expats feel intimidated or overwhelmed especially if they're starting from scratch or brushing up on their skills after years away from the classroom we have tried our best to discuss all the pros and cons of living in Germany in this video living in this diverse and Lively country offers great job prospects great infrastructure and a great quality of life however like any move to a new home in a new country there are downsides such as slow internet bureaucracy and missing your favorite comfort Foods before moving to Germany weigh all these perks and downsides thank you for watching this video please don't forget to comment subscribe and turn on the notification Bell\", 'video_id': '2u4ItZerRac'}]], 'distances': [[0.4984278976917267]], 'included': [<IncludeEnum.distances: 'distances'>, <IncludeEnum.documents: 'documents'>, <IncludeEnum.metadatas: 'metadatas'>]}\n"
     ]
    }
   ],
   "source": [
    "# evaluation and fine tuning\n",
    "# Define a set of test queries and expected answers\n",
    "test_cases = [\n",
    "    {\n",
    "        \"question\": \"What are the benefits of immigration to Germany?\",\n",
    "        \"expected_answer\": \"Immigration brings cultural diversity, fills labor shortages, and contributes to economic growth.\"\n",
    "    },\n",
    "    {\n",
    "        \"question\": \"What are the challenges faced by immigrants in Germany?\",\n",
    "        \"expected_answer\": \"Immigrants may face language barriers, integration difficulties, and potential discrimination.\"\n",
    "    },\n",
    "    # Add more test cases as needed\n",
    "]\n",
    "\n",
    "def evaluate_model(test_cases):\n",
    "    \"\"\"\n",
    "    Evaluate the model with a set of test cases.\n",
    "    \"\"\"\n",
    "    correct_answers = 0\n",
    "    for test in test_cases:\n",
    "        answer = answer_question(test['question'], '2u4ItZerRac,')  # Assuming using one video for testing\n",
    "        print(f\"Question: {test['question']}\")\n",
    "        print(f\"Expected: {test['expected_answer']}\")\n",
    "        print(f\"Received: {answer}\")\n",
    "        if test['expected_answer'].lower() in answer.lower():\n",
    "            correct_answers += 1\n",
    "        print()\n",
    "    \n",
    "    accuracy = correct_answers / len(test_cases)\n",
    "    print(f\"Model accuracy: {accuracy * 100}%\")\n",
    "\n",
    "# Run the evaluation\n",
    "evaluate_model(test_cases)"
   ]
  },
  {
   "cell_type": "code",
   "execution_count": null,
   "metadata": {},
   "outputs": [],
   "source": []
  },
  {
   "cell_type": "code",
   "execution_count": null,
   "metadata": {},
   "outputs": [],
   "source": []
  }
 ],
 "metadata": {
  "kernelspec": {
   "display_name": "Python 3",
   "language": "python",
   "name": "python3"
  },
  "language_info": {
   "codemirror_mode": {
    "name": "ipython",
    "version": 3
   },
   "file_extension": ".py",
   "mimetype": "text/x-python",
   "name": "python",
   "nbconvert_exporter": "python",
   "pygments_lexer": "ipython3",
   "version": "3.11.9"
  }
 },
 "nbformat": 4,
 "nbformat_minor": 2
}
